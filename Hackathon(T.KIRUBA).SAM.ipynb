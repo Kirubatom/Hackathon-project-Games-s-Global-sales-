{
 "cells": [
  {
   "cell_type": "code",
   "execution_count": 72,
   "id": "d44d77f5",
   "metadata": {},
   "outputs": [],
   "source": [
    "import pandas as pd\n",
    "import numpy as np\n",
    "import seaborn as sns\n",
    "from scipy import stats\n",
    "import matplotlib.pyplot as plt\n",
    "from scipy.stats import pearsonr\n",
    "from sklearn.model_selection import train_test_split\n",
    "from sklearn.linear_model import LinearRegression\n",
    "from sklearn.metrics import mean_squared_error\n",
    "from sklearn.linear_model import LogisticRegression\n",
    "from sklearn.metrics import confusion_matrix, accuracy_score\n",
    "from sklearn.preprocessing import MinMaxScaler\n",
    "from sklearn import tree\n",
    "from sklearn.ensemble import GradientBoostingRegressor\n",
    "from sklearn.ensemble import RandomForestRegressor\n",
    "from sklearn.ensemble import AdaBoostRegressor"
   ]
  },
  {
   "cell_type": "code",
   "execution_count": 73,
   "id": "8956b68e",
   "metadata": {},
   "outputs": [],
   "source": [
    "\n",
    "data_train=pd.read_csv(\"C:/Users/Dell/Downloads/Train (1).csv\",na_values=None)\n",
    "data_test=pd.read_csv(\"C:/Users/Dell/Downloads/Test (1).csv\",na_values=None)\n"
   ]
  },
  {
   "cell_type": "code",
   "execution_count": 74,
   "id": "6833366d",
   "metadata": {},
   "outputs": [
    {
     "data": {
      "text/html": [
       "<div>\n",
       "<style scoped>\n",
       "    .dataframe tbody tr th:only-of-type {\n",
       "        vertical-align: middle;\n",
       "    }\n",
       "\n",
       "    .dataframe tbody tr th {\n",
       "        vertical-align: top;\n",
       "    }\n",
       "\n",
       "    .dataframe thead th {\n",
       "        text-align: right;\n",
       "    }\n",
       "</style>\n",
       "<table border=\"1\" class=\"dataframe\">\n",
       "  <thead>\n",
       "    <tr style=\"text-align: right;\">\n",
       "      <th></th>\n",
       "      <th>Name</th>\n",
       "      <th>Platform</th>\n",
       "      <th>Year_of_Release</th>\n",
       "      <th>Genre</th>\n",
       "      <th>Publisher</th>\n",
       "      <th>NA_Sales</th>\n",
       "      <th>EU_Sales</th>\n",
       "      <th>JP_Sales</th>\n",
       "      <th>Critic_Score</th>\n",
       "      <th>Critic_Count</th>\n",
       "      <th>User_Score</th>\n",
       "      <th>User_Count</th>\n",
       "      <th>Developer</th>\n",
       "      <th>Rating</th>\n",
       "      <th>Global_Sales</th>\n",
       "    </tr>\n",
       "  </thead>\n",
       "  <tbody>\n",
       "    <tr>\n",
       "      <th>0</th>\n",
       "      <td>Wii Sports</td>\n",
       "      <td>Wii</td>\n",
       "      <td>2006.0</td>\n",
       "      <td>Sports</td>\n",
       "      <td>Nintendo</td>\n",
       "      <td>41.36</td>\n",
       "      <td>28.96</td>\n",
       "      <td>3.77</td>\n",
       "      <td>76.0</td>\n",
       "      <td>51.0</td>\n",
       "      <td>8</td>\n",
       "      <td>322.0</td>\n",
       "      <td>Nintendo</td>\n",
       "      <td>E</td>\n",
       "      <td>82.53</td>\n",
       "    </tr>\n",
       "    <tr>\n",
       "      <th>1</th>\n",
       "      <td>Super Mario Bros.</td>\n",
       "      <td>NES</td>\n",
       "      <td>1985.0</td>\n",
       "      <td>Platform</td>\n",
       "      <td>Nintendo</td>\n",
       "      <td>29.08</td>\n",
       "      <td>3.58</td>\n",
       "      <td>6.81</td>\n",
       "      <td>NaN</td>\n",
       "      <td>NaN</td>\n",
       "      <td>NaN</td>\n",
       "      <td>NaN</td>\n",
       "      <td>NaN</td>\n",
       "      <td>NaN</td>\n",
       "      <td>40.24</td>\n",
       "    </tr>\n",
       "    <tr>\n",
       "      <th>2</th>\n",
       "      <td>Mario Kart Wii</td>\n",
       "      <td>Wii</td>\n",
       "      <td>2008.0</td>\n",
       "      <td>Racing</td>\n",
       "      <td>Nintendo</td>\n",
       "      <td>15.68</td>\n",
       "      <td>12.76</td>\n",
       "      <td>3.79</td>\n",
       "      <td>82.0</td>\n",
       "      <td>73.0</td>\n",
       "      <td>8.3</td>\n",
       "      <td>709.0</td>\n",
       "      <td>Nintendo</td>\n",
       "      <td>E</td>\n",
       "      <td>35.52</td>\n",
       "    </tr>\n",
       "    <tr>\n",
       "      <th>3</th>\n",
       "      <td>Wii Sports Resort</td>\n",
       "      <td>Wii</td>\n",
       "      <td>2009.0</td>\n",
       "      <td>Sports</td>\n",
       "      <td>Nintendo</td>\n",
       "      <td>15.61</td>\n",
       "      <td>10.93</td>\n",
       "      <td>3.28</td>\n",
       "      <td>80.0</td>\n",
       "      <td>73.0</td>\n",
       "      <td>8</td>\n",
       "      <td>192.0</td>\n",
       "      <td>Nintendo</td>\n",
       "      <td>E</td>\n",
       "      <td>32.77</td>\n",
       "    </tr>\n",
       "    <tr>\n",
       "      <th>4</th>\n",
       "      <td>Pokemon Red/Pokemon Blue</td>\n",
       "      <td>GB</td>\n",
       "      <td>1996.0</td>\n",
       "      <td>Role-Playing</td>\n",
       "      <td>Nintendo</td>\n",
       "      <td>11.27</td>\n",
       "      <td>8.89</td>\n",
       "      <td>10.22</td>\n",
       "      <td>NaN</td>\n",
       "      <td>NaN</td>\n",
       "      <td>NaN</td>\n",
       "      <td>NaN</td>\n",
       "      <td>NaN</td>\n",
       "      <td>NaN</td>\n",
       "      <td>31.37</td>\n",
       "    </tr>\n",
       "  </tbody>\n",
       "</table>\n",
       "</div>"
      ],
      "text/plain": [
       "                       Name Platform  Year_of_Release         Genre Publisher  \\\n",
       "0                Wii Sports      Wii           2006.0        Sports  Nintendo   \n",
       "1         Super Mario Bros.      NES           1985.0      Platform  Nintendo   \n",
       "2            Mario Kart Wii      Wii           2008.0        Racing  Nintendo   \n",
       "3         Wii Sports Resort      Wii           2009.0        Sports  Nintendo   \n",
       "4  Pokemon Red/Pokemon Blue       GB           1996.0  Role-Playing  Nintendo   \n",
       "\n",
       "   NA_Sales  EU_Sales  JP_Sales  Critic_Score  Critic_Count User_Score  \\\n",
       "0     41.36     28.96      3.77          76.0          51.0          8   \n",
       "1     29.08      3.58      6.81           NaN           NaN        NaN   \n",
       "2     15.68     12.76      3.79          82.0          73.0        8.3   \n",
       "3     15.61     10.93      3.28          80.0          73.0          8   \n",
       "4     11.27      8.89     10.22           NaN           NaN        NaN   \n",
       "\n",
       "   User_Count Developer Rating  Global_Sales  \n",
       "0       322.0  Nintendo      E         82.53  \n",
       "1         NaN       NaN    NaN         40.24  \n",
       "2       709.0  Nintendo      E         35.52  \n",
       "3       192.0  Nintendo      E         32.77  \n",
       "4         NaN       NaN    NaN         31.37  "
      ]
     },
     "execution_count": 74,
     "metadata": {},
     "output_type": "execute_result"
    }
   ],
   "source": [
    "data_train.head()"
   ]
  },
  {
   "cell_type": "code",
   "execution_count": 75,
   "id": "c57aedb9",
   "metadata": {},
   "outputs": [],
   "source": [
    "y=data_train.Global_Sales"
   ]
  },
  {
   "cell_type": "code",
   "execution_count": 76,
   "id": "13fe4fd1",
   "metadata": {},
   "outputs": [
    {
     "data": {
      "text/html": [
       "<div>\n",
       "<style scoped>\n",
       "    .dataframe tbody tr th:only-of-type {\n",
       "        vertical-align: middle;\n",
       "    }\n",
       "\n",
       "    .dataframe tbody tr th {\n",
       "        vertical-align: top;\n",
       "    }\n",
       "\n",
       "    .dataframe thead th {\n",
       "        text-align: right;\n",
       "    }\n",
       "</style>\n",
       "<table border=\"1\" class=\"dataframe\">\n",
       "  <thead>\n",
       "    <tr style=\"text-align: right;\">\n",
       "      <th></th>\n",
       "      <th>Name</th>\n",
       "      <th>Platform</th>\n",
       "      <th>Year_of_Release</th>\n",
       "      <th>Genre</th>\n",
       "      <th>Publisher</th>\n",
       "      <th>NA_Sales</th>\n",
       "      <th>EU_Sales</th>\n",
       "      <th>JP_Sales</th>\n",
       "      <th>Critic_Score</th>\n",
       "      <th>Critic_Count</th>\n",
       "      <th>User_Score</th>\n",
       "      <th>User_Count</th>\n",
       "      <th>Developer</th>\n",
       "      <th>Rating</th>\n",
       "      <th>Global_Sales</th>\n",
       "    </tr>\n",
       "  </thead>\n",
       "  <tbody>\n",
       "    <tr>\n",
       "      <th>0</th>\n",
       "      <td>Wii Sports</td>\n",
       "      <td>Wii</td>\n",
       "      <td>2006.0</td>\n",
       "      <td>Sports</td>\n",
       "      <td>Nintendo</td>\n",
       "      <td>41.36</td>\n",
       "      <td>28.96</td>\n",
       "      <td>3.77</td>\n",
       "      <td>76.0</td>\n",
       "      <td>51.0</td>\n",
       "      <td>8</td>\n",
       "      <td>322.0</td>\n",
       "      <td>Nintendo</td>\n",
       "      <td>E</td>\n",
       "      <td>82.53</td>\n",
       "    </tr>\n",
       "    <tr>\n",
       "      <th>1</th>\n",
       "      <td>Super Mario Bros.</td>\n",
       "      <td>NES</td>\n",
       "      <td>1985.0</td>\n",
       "      <td>Platform</td>\n",
       "      <td>Nintendo</td>\n",
       "      <td>29.08</td>\n",
       "      <td>3.58</td>\n",
       "      <td>6.81</td>\n",
       "      <td>NaN</td>\n",
       "      <td>NaN</td>\n",
       "      <td>NaN</td>\n",
       "      <td>NaN</td>\n",
       "      <td>NaN</td>\n",
       "      <td>NaN</td>\n",
       "      <td>40.24</td>\n",
       "    </tr>\n",
       "    <tr>\n",
       "      <th>2</th>\n",
       "      <td>Mario Kart Wii</td>\n",
       "      <td>Wii</td>\n",
       "      <td>2008.0</td>\n",
       "      <td>Racing</td>\n",
       "      <td>Nintendo</td>\n",
       "      <td>15.68</td>\n",
       "      <td>12.76</td>\n",
       "      <td>3.79</td>\n",
       "      <td>82.0</td>\n",
       "      <td>73.0</td>\n",
       "      <td>8.3</td>\n",
       "      <td>709.0</td>\n",
       "      <td>Nintendo</td>\n",
       "      <td>E</td>\n",
       "      <td>35.52</td>\n",
       "    </tr>\n",
       "    <tr>\n",
       "      <th>3</th>\n",
       "      <td>Wii Sports Resort</td>\n",
       "      <td>Wii</td>\n",
       "      <td>2009.0</td>\n",
       "      <td>Sports</td>\n",
       "      <td>Nintendo</td>\n",
       "      <td>15.61</td>\n",
       "      <td>10.93</td>\n",
       "      <td>3.28</td>\n",
       "      <td>80.0</td>\n",
       "      <td>73.0</td>\n",
       "      <td>8</td>\n",
       "      <td>192.0</td>\n",
       "      <td>Nintendo</td>\n",
       "      <td>E</td>\n",
       "      <td>32.77</td>\n",
       "    </tr>\n",
       "    <tr>\n",
       "      <th>4</th>\n",
       "      <td>Pokemon Red/Pokemon Blue</td>\n",
       "      <td>GB</td>\n",
       "      <td>1996.0</td>\n",
       "      <td>Role-Playing</td>\n",
       "      <td>Nintendo</td>\n",
       "      <td>11.27</td>\n",
       "      <td>8.89</td>\n",
       "      <td>10.22</td>\n",
       "      <td>NaN</td>\n",
       "      <td>NaN</td>\n",
       "      <td>NaN</td>\n",
       "      <td>NaN</td>\n",
       "      <td>NaN</td>\n",
       "      <td>NaN</td>\n",
       "      <td>31.37</td>\n",
       "    </tr>\n",
       "    <tr>\n",
       "      <th>...</th>\n",
       "      <td>...</td>\n",
       "      <td>...</td>\n",
       "      <td>...</td>\n",
       "      <td>...</td>\n",
       "      <td>...</td>\n",
       "      <td>...</td>\n",
       "      <td>...</td>\n",
       "      <td>...</td>\n",
       "      <td>...</td>\n",
       "      <td>...</td>\n",
       "      <td>...</td>\n",
       "      <td>...</td>\n",
       "      <td>...</td>\n",
       "      <td>...</td>\n",
       "      <td>...</td>\n",
       "    </tr>\n",
       "    <tr>\n",
       "      <th>16714</th>\n",
       "      <td>Theresia...</td>\n",
       "      <td>DS</td>\n",
       "      <td>2008.0</td>\n",
       "      <td>Adventure</td>\n",
       "      <td>Arc System Works</td>\n",
       "      <td>0.05</td>\n",
       "      <td>0.00</td>\n",
       "      <td>0.00</td>\n",
       "      <td>61.0</td>\n",
       "      <td>6.0</td>\n",
       "      <td>8</td>\n",
       "      <td>8.0</td>\n",
       "      <td>WorkJam</td>\n",
       "      <td>M</td>\n",
       "      <td>NaN</td>\n",
       "    </tr>\n",
       "    <tr>\n",
       "      <th>16715</th>\n",
       "      <td>Sacred 2: Fallen Angel</td>\n",
       "      <td>PC</td>\n",
       "      <td>2008.0</td>\n",
       "      <td>Role-Playing</td>\n",
       "      <td>Ascaron Entertainment GmbH</td>\n",
       "      <td>0.00</td>\n",
       "      <td>0.05</td>\n",
       "      <td>0.00</td>\n",
       "      <td>71.0</td>\n",
       "      <td>41.0</td>\n",
       "      <td>6.9</td>\n",
       "      <td>203.0</td>\n",
       "      <td>Ascaron Entertainment GmbH, Ascaron Entertainment</td>\n",
       "      <td>M</td>\n",
       "      <td>NaN</td>\n",
       "    </tr>\n",
       "    <tr>\n",
       "      <th>16716</th>\n",
       "      <td>Dance Sensation!</td>\n",
       "      <td>Wii</td>\n",
       "      <td>2010.0</td>\n",
       "      <td>Misc</td>\n",
       "      <td>Majesco Entertainment</td>\n",
       "      <td>0.06</td>\n",
       "      <td>0.00</td>\n",
       "      <td>0.00</td>\n",
       "      <td>NaN</td>\n",
       "      <td>NaN</td>\n",
       "      <td>NaN</td>\n",
       "      <td>NaN</td>\n",
       "      <td>NaN</td>\n",
       "      <td>NaN</td>\n",
       "      <td>NaN</td>\n",
       "    </tr>\n",
       "    <tr>\n",
       "      <th>16717</th>\n",
       "      <td>Adventure Time: The Secret of the Nameless Kin...</td>\n",
       "      <td>X360</td>\n",
       "      <td>2014.0</td>\n",
       "      <td>Action</td>\n",
       "      <td>Little Orbit</td>\n",
       "      <td>0.00</td>\n",
       "      <td>0.05</td>\n",
       "      <td>0.00</td>\n",
       "      <td>58.0</td>\n",
       "      <td>5.0</td>\n",
       "      <td>7.5</td>\n",
       "      <td>4.0</td>\n",
       "      <td>WayForward</td>\n",
       "      <td>E10+</td>\n",
       "      <td>NaN</td>\n",
       "    </tr>\n",
       "    <tr>\n",
       "      <th>16718</th>\n",
       "      <td>Teenage Mutant Ninja Turtles 3: Mutant Nightmare</td>\n",
       "      <td>DS</td>\n",
       "      <td>2005.0</td>\n",
       "      <td>Action</td>\n",
       "      <td>Konami Digital Entertainment</td>\n",
       "      <td>0.05</td>\n",
       "      <td>0.00</td>\n",
       "      <td>0.00</td>\n",
       "      <td>58.0</td>\n",
       "      <td>10.0</td>\n",
       "      <td>7</td>\n",
       "      <td>5.0</td>\n",
       "      <td>Konami</td>\n",
       "      <td>E</td>\n",
       "      <td>NaN</td>\n",
       "    </tr>\n",
       "  </tbody>\n",
       "</table>\n",
       "<p>16719 rows × 15 columns</p>\n",
       "</div>"
      ],
      "text/plain": [
       "                                                    Name Platform  \\\n",
       "0                                             Wii Sports      Wii   \n",
       "1                                      Super Mario Bros.      NES   \n",
       "2                                         Mario Kart Wii      Wii   \n",
       "3                                      Wii Sports Resort      Wii   \n",
       "4                               Pokemon Red/Pokemon Blue       GB   \n",
       "...                                                  ...      ...   \n",
       "16714                                        Theresia...       DS   \n",
       "16715                             Sacred 2: Fallen Angel       PC   \n",
       "16716                                   Dance Sensation!      Wii   \n",
       "16717  Adventure Time: The Secret of the Nameless Kin...     X360   \n",
       "16718   Teenage Mutant Ninja Turtles 3: Mutant Nightmare       DS   \n",
       "\n",
       "       Year_of_Release         Genre                     Publisher  NA_Sales  \\\n",
       "0               2006.0        Sports                      Nintendo     41.36   \n",
       "1               1985.0      Platform                      Nintendo     29.08   \n",
       "2               2008.0        Racing                      Nintendo     15.68   \n",
       "3               2009.0        Sports                      Nintendo     15.61   \n",
       "4               1996.0  Role-Playing                      Nintendo     11.27   \n",
       "...                ...           ...                           ...       ...   \n",
       "16714           2008.0     Adventure              Arc System Works      0.05   \n",
       "16715           2008.0  Role-Playing    Ascaron Entertainment GmbH      0.00   \n",
       "16716           2010.0          Misc         Majesco Entertainment      0.06   \n",
       "16717           2014.0        Action                  Little Orbit      0.00   \n",
       "16718           2005.0        Action  Konami Digital Entertainment      0.05   \n",
       "\n",
       "       EU_Sales  JP_Sales  Critic_Score  Critic_Count User_Score  User_Count  \\\n",
       "0         28.96      3.77          76.0          51.0          8       322.0   \n",
       "1          3.58      6.81           NaN           NaN        NaN         NaN   \n",
       "2         12.76      3.79          82.0          73.0        8.3       709.0   \n",
       "3         10.93      3.28          80.0          73.0          8       192.0   \n",
       "4          8.89     10.22           NaN           NaN        NaN         NaN   \n",
       "...         ...       ...           ...           ...        ...         ...   \n",
       "16714      0.00      0.00          61.0           6.0          8         8.0   \n",
       "16715      0.05      0.00          71.0          41.0        6.9       203.0   \n",
       "16716      0.00      0.00           NaN           NaN        NaN         NaN   \n",
       "16717      0.05      0.00          58.0           5.0        7.5         4.0   \n",
       "16718      0.00      0.00          58.0          10.0          7         5.0   \n",
       "\n",
       "                                               Developer Rating  Global_Sales  \n",
       "0                                               Nintendo      E         82.53  \n",
       "1                                                    NaN    NaN         40.24  \n",
       "2                                               Nintendo      E         35.52  \n",
       "3                                               Nintendo      E         32.77  \n",
       "4                                                    NaN    NaN         31.37  \n",
       "...                                                  ...    ...           ...  \n",
       "16714                                            WorkJam      M           NaN  \n",
       "16715  Ascaron Entertainment GmbH, Ascaron Entertainment      M           NaN  \n",
       "16716                                                NaN    NaN           NaN  \n",
       "16717                                         WayForward   E10+           NaN  \n",
       "16718                                             Konami      E           NaN  \n",
       "\n",
       "[16719 rows x 15 columns]"
      ]
     },
     "execution_count": 76,
     "metadata": {},
     "output_type": "execute_result"
    }
   ],
   "source": [
    "data=pd.concat([data_train,data_test],ignore_index=True)\n",
    "data"
   ]
  },
  {
   "cell_type": "code",
   "execution_count": 77,
   "id": "80062b5d",
   "metadata": {},
   "outputs": [
    {
     "name": "stdout",
     "output_type": "stream",
     "text": [
      "<class 'pandas.core.frame.DataFrame'>\n",
      "RangeIndex: 16719 entries, 0 to 16718\n",
      "Data columns (total 15 columns):\n",
      " #   Column           Non-Null Count  Dtype  \n",
      "---  ------           --------------  -----  \n",
      " 0   Name             16717 non-null  object \n",
      " 1   Platform         16719 non-null  object \n",
      " 2   Year_of_Release  16450 non-null  float64\n",
      " 3   Genre            16717 non-null  object \n",
      " 4   Publisher        16665 non-null  object \n",
      " 5   NA_Sales         16719 non-null  float64\n",
      " 6   EU_Sales         16719 non-null  float64\n",
      " 7   JP_Sales         16719 non-null  float64\n",
      " 8   Critic_Score     8137 non-null   float64\n",
      " 9   Critic_Count     8137 non-null   float64\n",
      " 10  User_Score       10015 non-null  object \n",
      " 11  User_Count       7590 non-null   float64\n",
      " 12  Developer        10096 non-null  object \n",
      " 13  Rating           9950 non-null   object \n",
      " 14  Global_Sales     14576 non-null  float64\n",
      "dtypes: float64(8), object(7)\n",
      "memory usage: 1.9+ MB\n"
     ]
    }
   ],
   "source": [
    "data.info()"
   ]
  },
  {
   "cell_type": "code",
   "execution_count": 78,
   "id": "914f2f32",
   "metadata": {},
   "outputs": [
    {
     "data": {
      "text/plain": [
       "Name                  2\n",
       "Platform              0\n",
       "Year_of_Release     269\n",
       "Genre                 2\n",
       "Publisher            54\n",
       "NA_Sales              0\n",
       "EU_Sales              0\n",
       "JP_Sales              0\n",
       "Critic_Score       8582\n",
       "Critic_Count       8582\n",
       "User_Score         6704\n",
       "User_Count         9129\n",
       "Developer          6623\n",
       "Rating             6769\n",
       "Global_Sales       2143\n",
       "dtype: int64"
      ]
     },
     "execution_count": 78,
     "metadata": {},
     "output_type": "execute_result"
    }
   ],
   "source": [
    "data.isnull().sum()"
   ]
  },
  {
   "cell_type": "markdown",
   "id": "4b55980a",
   "metadata": {},
   "source": [
    "<h1>contineous data\n",
    "    <h3>\n",
    "        1.Year_of_release\n",
    "        2.NA_sales\n",
    "        3.EU_sales\n",
    "        4.JP_Sales\n",
    "        5.Critic_Score\n",
    "        6.Critic_Count\n",
    "        7.User_Count\n",
    "        \n",
    "    </h3>   \n",
    "#note:\n",
    "        we are converting year_of_release to integer from float"
   ]
  },
  {
   "cell_type": "code",
   "execution_count": 79,
   "id": "8050fc76",
   "metadata": {},
   "outputs": [
    {
     "data": {
      "text/plain": [
       "<bound method Series.unique of 0        2006.0\n",
       "1        1985.0\n",
       "2        2008.0\n",
       "3        2009.0\n",
       "4        1996.0\n",
       "          ...  \n",
       "16714    2008.0\n",
       "16715    2008.0\n",
       "16716    2010.0\n",
       "16717    2014.0\n",
       "16718    2005.0\n",
       "Name: Year_of_Release, Length: 16719, dtype: float64>"
      ]
     },
     "execution_count": 79,
     "metadata": {},
     "output_type": "execute_result"
    }
   ],
   "source": [
    "data.Year_of_Release.unique"
   ]
  },
  {
   "cell_type": "code",
   "execution_count": 80,
   "id": "0945f5a5",
   "metadata": {},
   "outputs": [
    {
     "name": "stdout",
     "output_type": "stream",
     "text": [
      "                                                    Name Platform  \\\n",
      "0                                             Wii Sports      Wii   \n",
      "1                                      Super Mario Bros.      NES   \n",
      "2                                         Mario Kart Wii      Wii   \n",
      "3                                      Wii Sports Resort      Wii   \n",
      "4                               Pokemon Red/Pokemon Blue       GB   \n",
      "...                                                  ...      ...   \n",
      "16714                                        Theresia...       DS   \n",
      "16715                             Sacred 2: Fallen Angel       PC   \n",
      "16716                                   Dance Sensation!      Wii   \n",
      "16717  Adventure Time: The Secret of the Nameless Kin...     X360   \n",
      "16718   Teenage Mutant Ninja Turtles 3: Mutant Nightmare       DS   \n",
      "\n",
      "       Year_of_Release         Genre                     Publisher  NA_Sales  \\\n",
      "0                 2006        Sports                      Nintendo     41.36   \n",
      "1                 1985      Platform                      Nintendo     29.08   \n",
      "2                 2008        Racing                      Nintendo     15.68   \n",
      "3                 2009        Sports                      Nintendo     15.61   \n",
      "4                 1996  Role-Playing                      Nintendo     11.27   \n",
      "...                ...           ...                           ...       ...   \n",
      "16714             2008     Adventure              Arc System Works      0.05   \n",
      "16715             2008  Role-Playing    Ascaron Entertainment GmbH      0.00   \n",
      "16716             2010          Misc         Majesco Entertainment      0.06   \n",
      "16717             2014        Action                  Little Orbit      0.00   \n",
      "16718             2005        Action  Konami Digital Entertainment      0.05   \n",
      "\n",
      "       EU_Sales  JP_Sales  Critic_Score  Critic_Count User_Score  User_Count  \\\n",
      "0         28.96      3.77          76.0          51.0          8       322.0   \n",
      "1          3.58      6.81           NaN           NaN        NaN         NaN   \n",
      "2         12.76      3.79          82.0          73.0        8.3       709.0   \n",
      "3         10.93      3.28          80.0          73.0          8       192.0   \n",
      "4          8.89     10.22           NaN           NaN        NaN         NaN   \n",
      "...         ...       ...           ...           ...        ...         ...   \n",
      "16714      0.00      0.00          61.0           6.0          8         8.0   \n",
      "16715      0.05      0.00          71.0          41.0        6.9       203.0   \n",
      "16716      0.00      0.00           NaN           NaN        NaN         NaN   \n",
      "16717      0.05      0.00          58.0           5.0        7.5         4.0   \n",
      "16718      0.00      0.00          58.0          10.0          7         5.0   \n",
      "\n",
      "                                               Developer Rating  Global_Sales  \n",
      "0                                               Nintendo      E         82.53  \n",
      "1                                                    NaN    NaN         40.24  \n",
      "2                                               Nintendo      E         35.52  \n",
      "3                                               Nintendo      E         32.77  \n",
      "4                                                    NaN    NaN         31.37  \n",
      "...                                                  ...    ...           ...  \n",
      "16714                                            WorkJam      M           NaN  \n",
      "16715  Ascaron Entertainment GmbH, Ascaron Entertainment      M           NaN  \n",
      "16716                                                NaN    NaN           NaN  \n",
      "16717                                         WayForward   E10+           NaN  \n",
      "16718                                             Konami      E           NaN  \n",
      "\n",
      "[16719 rows x 15 columns]\n"
     ]
    }
   ],
   "source": [
    "data[\"Year_of_Release\"]=data[\"Year_of_Release\"].fillna(0).astype(int)\n",
    "print(data)"
   ]
  },
  {
   "cell_type": "code",
   "execution_count": 81,
   "id": "e7b1a6ea",
   "metadata": {},
   "outputs": [
    {
     "data": {
      "text/plain": [
       "<bound method Series.unique of 0        2006\n",
       "1        1985\n",
       "2        2008\n",
       "3        2009\n",
       "4        1996\n",
       "         ... \n",
       "16714    2008\n",
       "16715    2008\n",
       "16716    2010\n",
       "16717    2014\n",
       "16718    2005\n",
       "Name: Year_of_Release, Length: 16719, dtype: int32>"
      ]
     },
     "execution_count": 81,
     "metadata": {},
     "output_type": "execute_result"
    }
   ],
   "source": [
    "data.Year_of_Release.unique"
   ]
  },
  {
   "cell_type": "code",
   "execution_count": 82,
   "id": "f9168e65",
   "metadata": {},
   "outputs": [
    {
     "data": {
      "text/plain": [
       "0"
      ]
     },
     "execution_count": 82,
     "metadata": {},
     "output_type": "execute_result"
    }
   ],
   "source": [
    " data.duplicated().sum()                                                           "
   ]
  },
  {
   "cell_type": "code",
   "execution_count": 83,
   "id": "2fb33509",
   "metadata": {},
   "outputs": [],
   "source": [
    "data.drop_duplicates(keep=False,inplace=True)"
   ]
  },
  {
   "cell_type": "code",
   "execution_count": 84,
   "id": "48e9a7be",
   "metadata": {},
   "outputs": [
    {
     "data": {
      "text/plain": [
       "count    16719.000000\n",
       "mean         0.263330\n",
       "std          0.813514\n",
       "min          0.000000\n",
       "25%          0.000000\n",
       "50%          0.080000\n",
       "75%          0.240000\n",
       "max         41.360000\n",
       "Name: NA_Sales, dtype: float64"
      ]
     },
     "execution_count": 84,
     "metadata": {},
     "output_type": "execute_result"
    }
   ],
   "source": [
    "data.NA_Sales.describe()"
   ]
  },
  {
   "cell_type": "code",
   "execution_count": 85,
   "id": "549d311e",
   "metadata": {},
   "outputs": [],
   "source": [
    "q3=data.NA_Sales.quantile(0.75)\n",
    "q1=data.NA_Sales.quantile(0.25)\n",
    "iqr=q3-q1"
   ]
  },
  {
   "cell_type": "code",
   "execution_count": 86,
   "id": "b5529374",
   "metadata": {},
   "outputs": [],
   "source": [
    "UE=q3+1.5*(iqr)\n",
    "LE=q1-1.5*(iqr)"
   ]
  },
  {
   "cell_type": "code",
   "execution_count": 87,
   "id": "29db6222",
   "metadata": {},
   "outputs": [
    {
     "data": {
      "text/html": [
       "<div>\n",
       "<style scoped>\n",
       "    .dataframe tbody tr th:only-of-type {\n",
       "        vertical-align: middle;\n",
       "    }\n",
       "\n",
       "    .dataframe tbody tr th {\n",
       "        vertical-align: top;\n",
       "    }\n",
       "\n",
       "    .dataframe thead th {\n",
       "        text-align: right;\n",
       "    }\n",
       "</style>\n",
       "<table border=\"1\" class=\"dataframe\">\n",
       "  <thead>\n",
       "    <tr style=\"text-align: right;\">\n",
       "      <th></th>\n",
       "      <th>Name</th>\n",
       "      <th>Platform</th>\n",
       "      <th>Year_of_Release</th>\n",
       "      <th>Genre</th>\n",
       "      <th>Publisher</th>\n",
       "      <th>NA_Sales</th>\n",
       "      <th>EU_Sales</th>\n",
       "      <th>JP_Sales</th>\n",
       "      <th>Critic_Score</th>\n",
       "      <th>Critic_Count</th>\n",
       "      <th>User_Score</th>\n",
       "      <th>User_Count</th>\n",
       "      <th>Developer</th>\n",
       "      <th>Rating</th>\n",
       "      <th>Global_Sales</th>\n",
       "    </tr>\n",
       "  </thead>\n",
       "  <tbody>\n",
       "    <tr>\n",
       "      <th>138</th>\n",
       "      <td>World of Warcraft</td>\n",
       "      <td>PC</td>\n",
       "      <td>2004</td>\n",
       "      <td>Role-Playing</td>\n",
       "      <td>Activision</td>\n",
       "      <td>0.08</td>\n",
       "      <td>6.21</td>\n",
       "      <td>0.00</td>\n",
       "      <td>93.0</td>\n",
       "      <td>57.0</td>\n",
       "      <td>7.3</td>\n",
       "      <td>2182.0</td>\n",
       "      <td>Blizzard Entertainment</td>\n",
       "      <td>T</td>\n",
       "      <td>6.29</td>\n",
       "    </tr>\n",
       "    <tr>\n",
       "      <th>163</th>\n",
       "      <td>Monster Hunter Freedom Unite</td>\n",
       "      <td>PSP</td>\n",
       "      <td>2008</td>\n",
       "      <td>Role-Playing</td>\n",
       "      <td>Capcom</td>\n",
       "      <td>0.47</td>\n",
       "      <td>0.55</td>\n",
       "      <td>4.13</td>\n",
       "      <td>81.0</td>\n",
       "      <td>48.0</td>\n",
       "      <td>8.7</td>\n",
       "      <td>124.0</td>\n",
       "      <td>Capcom</td>\n",
       "      <td>T</td>\n",
       "      <td>5.48</td>\n",
       "    </tr>\n",
       "    <tr>\n",
       "      <th>215</th>\n",
       "      <td>Monster Hunter Freedom 3</td>\n",
       "      <td>PSP</td>\n",
       "      <td>2010</td>\n",
       "      <td>Role-Playing</td>\n",
       "      <td>Capcom</td>\n",
       "      <td>0.00</td>\n",
       "      <td>0.00</td>\n",
       "      <td>4.87</td>\n",
       "      <td>NaN</td>\n",
       "      <td>NaN</td>\n",
       "      <td>NaN</td>\n",
       "      <td>NaN</td>\n",
       "      <td>NaN</td>\n",
       "      <td>NaN</td>\n",
       "      <td>4.87</td>\n",
       "    </tr>\n",
       "    <tr>\n",
       "      <th>244</th>\n",
       "      <td>Dragon Quest VII: Warriors of Eden</td>\n",
       "      <td>PS</td>\n",
       "      <td>2000</td>\n",
       "      <td>Role-Playing</td>\n",
       "      <td>Enix Corporation</td>\n",
       "      <td>0.20</td>\n",
       "      <td>0.14</td>\n",
       "      <td>4.10</td>\n",
       "      <td>NaN</td>\n",
       "      <td>NaN</td>\n",
       "      <td>NaN</td>\n",
       "      <td>NaN</td>\n",
       "      <td>NaN</td>\n",
       "      <td>NaN</td>\n",
       "      <td>4.47</td>\n",
       "    </tr>\n",
       "    <tr>\n",
       "      <th>250</th>\n",
       "      <td>Winning Eleven: Pro Evolution Soccer 2007</td>\n",
       "      <td>PS2</td>\n",
       "      <td>2006</td>\n",
       "      <td>Sports</td>\n",
       "      <td>Konami Digital Entertainment</td>\n",
       "      <td>0.10</td>\n",
       "      <td>2.39</td>\n",
       "      <td>1.05</td>\n",
       "      <td>86.0</td>\n",
       "      <td>19.0</td>\n",
       "      <td>8.9</td>\n",
       "      <td>33.0</td>\n",
       "      <td>Konami</td>\n",
       "      <td>E</td>\n",
       "      <td>4.39</td>\n",
       "    </tr>\n",
       "    <tr>\n",
       "      <th>...</th>\n",
       "      <td>...</td>\n",
       "      <td>...</td>\n",
       "      <td>...</td>\n",
       "      <td>...</td>\n",
       "      <td>...</td>\n",
       "      <td>...</td>\n",
       "      <td>...</td>\n",
       "      <td>...</td>\n",
       "      <td>...</td>\n",
       "      <td>...</td>\n",
       "      <td>...</td>\n",
       "      <td>...</td>\n",
       "      <td>...</td>\n",
       "      <td>...</td>\n",
       "      <td>...</td>\n",
       "    </tr>\n",
       "    <tr>\n",
       "      <th>16714</th>\n",
       "      <td>Theresia...</td>\n",
       "      <td>DS</td>\n",
       "      <td>2008</td>\n",
       "      <td>Adventure</td>\n",
       "      <td>Arc System Works</td>\n",
       "      <td>0.05</td>\n",
       "      <td>0.00</td>\n",
       "      <td>0.00</td>\n",
       "      <td>61.0</td>\n",
       "      <td>6.0</td>\n",
       "      <td>8</td>\n",
       "      <td>8.0</td>\n",
       "      <td>WorkJam</td>\n",
       "      <td>M</td>\n",
       "      <td>NaN</td>\n",
       "    </tr>\n",
       "    <tr>\n",
       "      <th>16715</th>\n",
       "      <td>Sacred 2: Fallen Angel</td>\n",
       "      <td>PC</td>\n",
       "      <td>2008</td>\n",
       "      <td>Role-Playing</td>\n",
       "      <td>Ascaron Entertainment GmbH</td>\n",
       "      <td>0.00</td>\n",
       "      <td>0.05</td>\n",
       "      <td>0.00</td>\n",
       "      <td>71.0</td>\n",
       "      <td>41.0</td>\n",
       "      <td>6.9</td>\n",
       "      <td>203.0</td>\n",
       "      <td>Ascaron Entertainment GmbH, Ascaron Entertainment</td>\n",
       "      <td>M</td>\n",
       "      <td>NaN</td>\n",
       "    </tr>\n",
       "    <tr>\n",
       "      <th>16716</th>\n",
       "      <td>Dance Sensation!</td>\n",
       "      <td>Wii</td>\n",
       "      <td>2010</td>\n",
       "      <td>Misc</td>\n",
       "      <td>Majesco Entertainment</td>\n",
       "      <td>0.06</td>\n",
       "      <td>0.00</td>\n",
       "      <td>0.00</td>\n",
       "      <td>NaN</td>\n",
       "      <td>NaN</td>\n",
       "      <td>NaN</td>\n",
       "      <td>NaN</td>\n",
       "      <td>NaN</td>\n",
       "      <td>NaN</td>\n",
       "      <td>NaN</td>\n",
       "    </tr>\n",
       "    <tr>\n",
       "      <th>16717</th>\n",
       "      <td>Adventure Time: The Secret of the Nameless Kin...</td>\n",
       "      <td>X360</td>\n",
       "      <td>2014</td>\n",
       "      <td>Action</td>\n",
       "      <td>Little Orbit</td>\n",
       "      <td>0.00</td>\n",
       "      <td>0.05</td>\n",
       "      <td>0.00</td>\n",
       "      <td>58.0</td>\n",
       "      <td>5.0</td>\n",
       "      <td>7.5</td>\n",
       "      <td>4.0</td>\n",
       "      <td>WayForward</td>\n",
       "      <td>E10+</td>\n",
       "      <td>NaN</td>\n",
       "    </tr>\n",
       "    <tr>\n",
       "      <th>16718</th>\n",
       "      <td>Teenage Mutant Ninja Turtles 3: Mutant Nightmare</td>\n",
       "      <td>DS</td>\n",
       "      <td>2005</td>\n",
       "      <td>Action</td>\n",
       "      <td>Konami Digital Entertainment</td>\n",
       "      <td>0.05</td>\n",
       "      <td>0.00</td>\n",
       "      <td>0.00</td>\n",
       "      <td>58.0</td>\n",
       "      <td>10.0</td>\n",
       "      <td>7</td>\n",
       "      <td>5.0</td>\n",
       "      <td>Konami</td>\n",
       "      <td>E</td>\n",
       "      <td>NaN</td>\n",
       "    </tr>\n",
       "  </tbody>\n",
       "</table>\n",
       "<p>15003 rows × 15 columns</p>\n",
       "</div>"
      ],
      "text/plain": [
       "                                                    Name Platform  \\\n",
       "138                                    World of Warcraft       PC   \n",
       "163                         Monster Hunter Freedom Unite      PSP   \n",
       "215                             Monster Hunter Freedom 3      PSP   \n",
       "244                   Dragon Quest VII: Warriors of Eden       PS   \n",
       "250            Winning Eleven: Pro Evolution Soccer 2007      PS2   \n",
       "...                                                  ...      ...   \n",
       "16714                                        Theresia...       DS   \n",
       "16715                             Sacred 2: Fallen Angel       PC   \n",
       "16716                                   Dance Sensation!      Wii   \n",
       "16717  Adventure Time: The Secret of the Nameless Kin...     X360   \n",
       "16718   Teenage Mutant Ninja Turtles 3: Mutant Nightmare       DS   \n",
       "\n",
       "       Year_of_Release         Genre                     Publisher  NA_Sales  \\\n",
       "138               2004  Role-Playing                    Activision      0.08   \n",
       "163               2008  Role-Playing                        Capcom      0.47   \n",
       "215               2010  Role-Playing                        Capcom      0.00   \n",
       "244               2000  Role-Playing              Enix Corporation      0.20   \n",
       "250               2006        Sports  Konami Digital Entertainment      0.10   \n",
       "...                ...           ...                           ...       ...   \n",
       "16714             2008     Adventure              Arc System Works      0.05   \n",
       "16715             2008  Role-Playing    Ascaron Entertainment GmbH      0.00   \n",
       "16716             2010          Misc         Majesco Entertainment      0.06   \n",
       "16717             2014        Action                  Little Orbit      0.00   \n",
       "16718             2005        Action  Konami Digital Entertainment      0.05   \n",
       "\n",
       "       EU_Sales  JP_Sales  Critic_Score  Critic_Count User_Score  User_Count  \\\n",
       "138        6.21      0.00          93.0          57.0        7.3      2182.0   \n",
       "163        0.55      4.13          81.0          48.0        8.7       124.0   \n",
       "215        0.00      4.87           NaN           NaN        NaN         NaN   \n",
       "244        0.14      4.10           NaN           NaN        NaN         NaN   \n",
       "250        2.39      1.05          86.0          19.0        8.9        33.0   \n",
       "...         ...       ...           ...           ...        ...         ...   \n",
       "16714      0.00      0.00          61.0           6.0          8         8.0   \n",
       "16715      0.05      0.00          71.0          41.0        6.9       203.0   \n",
       "16716      0.00      0.00           NaN           NaN        NaN         NaN   \n",
       "16717      0.05      0.00          58.0           5.0        7.5         4.0   \n",
       "16718      0.00      0.00          58.0          10.0          7         5.0   \n",
       "\n",
       "                                               Developer Rating  Global_Sales  \n",
       "138                               Blizzard Entertainment      T          6.29  \n",
       "163                                               Capcom      T          5.48  \n",
       "215                                                  NaN    NaN          4.87  \n",
       "244                                                  NaN    NaN          4.47  \n",
       "250                                               Konami      E          4.39  \n",
       "...                                                  ...    ...           ...  \n",
       "16714                                            WorkJam      M           NaN  \n",
       "16715  Ascaron Entertainment GmbH, Ascaron Entertainment      M           NaN  \n",
       "16716                                                NaN    NaN           NaN  \n",
       "16717                                         WayForward   E10+           NaN  \n",
       "16718                                             Konami      E           NaN  \n",
       "\n",
       "[15003 rows x 15 columns]"
      ]
     },
     "execution_count": 87,
     "metadata": {},
     "output_type": "execute_result"
    }
   ],
   "source": [
    "data[(data.NA_Sales<UE)&(data.NA_Sales>LE)]"
   ]
  },
  {
   "cell_type": "code",
   "execution_count": 88,
   "id": "47c5e839",
   "metadata": {},
   "outputs": [
    {
     "data": {
      "text/plain": [
       "count    16719.000000\n",
       "mean         0.145025\n",
       "std          0.503283\n",
       "min          0.000000\n",
       "25%          0.000000\n",
       "50%          0.020000\n",
       "75%          0.110000\n",
       "max         28.960000\n",
       "Name: EU_Sales, dtype: float64"
      ]
     },
     "execution_count": 88,
     "metadata": {},
     "output_type": "execute_result"
    }
   ],
   "source": [
    "data.EU_Sales.describe()"
   ]
  },
  {
   "cell_type": "code",
   "execution_count": 89,
   "id": "87bba7a4",
   "metadata": {},
   "outputs": [
    {
     "data": {
      "text/plain": [
       "count    16719.000000\n",
       "mean         0.077602\n",
       "std          0.308818\n",
       "min          0.000000\n",
       "25%          0.000000\n",
       "50%          0.000000\n",
       "75%          0.040000\n",
       "max         10.220000\n",
       "Name: JP_Sales, dtype: float64"
      ]
     },
     "execution_count": 89,
     "metadata": {},
     "output_type": "execute_result"
    }
   ],
   "source": [
    "data.JP_Sales.describe()"
   ]
  },
  {
   "cell_type": "code",
   "execution_count": 90,
   "id": "c76ec210",
   "metadata": {},
   "outputs": [
    {
     "data": {
      "text/plain": [
       "array([76., nan, 82., 80., 89., 58., 87., 91., 61., 97., 95., 77., 88.,\n",
       "       83., 94., 93., 85., 86., 98., 96., 90., 84., 73., 74., 78., 92.,\n",
       "       71., 72., 68., 62., 49., 67., 81., 66., 56., 79., 70., 59., 64.,\n",
       "       75., 60., 63., 69., 50., 25., 42., 44., 55., 48., 57., 29., 47.,\n",
       "       65., 54., 20., 53., 37., 38., 33., 52., 30., 32., 43., 45., 51.,\n",
       "       40., 46., 39., 34., 35., 41., 36., 28., 31., 27., 26., 19., 23.,\n",
       "       24., 17., 13., 21., 22.])"
      ]
     },
     "execution_count": 90,
     "metadata": {},
     "output_type": "execute_result"
    }
   ],
   "source": [
    "data['Critic_Score'].unique()"
   ]
  },
  {
   "cell_type": "code",
   "execution_count": 91,
   "id": "1356359b",
   "metadata": {},
   "outputs": [
    {
     "data": {
      "text/plain": [
       "count    8137.000000\n",
       "mean       68.967679\n",
       "std        13.938165\n",
       "min        13.000000\n",
       "25%        60.000000\n",
       "50%        71.000000\n",
       "75%        79.000000\n",
       "max        98.000000\n",
       "Name: Critic_Score, dtype: float64"
      ]
     },
     "execution_count": 91,
     "metadata": {},
     "output_type": "execute_result"
    }
   ],
   "source": [
    "data.Critic_Score.describe()"
   ]
  },
  {
   "cell_type": "code",
   "execution_count": 92,
   "id": "00680708",
   "metadata": {},
   "outputs": [],
   "source": [
    "\n",
    " data.Critic_Score.fillna('68.967679',inplace=True)\n"
   ]
  },
  {
   "cell_type": "code",
   "execution_count": 93,
   "id": "7c55711a",
   "metadata": {},
   "outputs": [
    {
     "data": {
      "text/plain": [
       "count     7590.000000\n",
       "mean       162.229908\n",
       "std        561.282326\n",
       "min          4.000000\n",
       "25%         10.000000\n",
       "50%         24.000000\n",
       "75%         81.000000\n",
       "max      10665.000000\n",
       "Name: User_Count, dtype: float64"
      ]
     },
     "execution_count": 93,
     "metadata": {},
     "output_type": "execute_result"
    }
   ],
   "source": [
    "data.User_Count.describe()"
   ]
  },
  {
   "cell_type": "code",
   "execution_count": 94,
   "id": "dcb26042",
   "metadata": {},
   "outputs": [
    {
     "data": {
      "text/plain": [
       "9129"
      ]
     },
     "execution_count": 94,
     "metadata": {},
     "output_type": "execute_result"
    }
   ],
   "source": [
    " data['User_Count'].isna().sum()\n"
   ]
  },
  {
   "cell_type": "code",
   "execution_count": 95,
   "id": "65f7f750",
   "metadata": {},
   "outputs": [],
   "source": [
    "\n",
    "data.User_Count.fillna('162.229908',inplace=True)\n",
    "\n"
   ]
  },
  {
   "cell_type": "code",
   "execution_count": 96,
   "id": "f05d0fdf",
   "metadata": {},
   "outputs": [
    {
     "data": {
      "text/plain": [
       "count    8137.000000\n",
       "mean       26.360821\n",
       "std        18.980495\n",
       "min         3.000000\n",
       "25%        12.000000\n",
       "50%        21.000000\n",
       "75%        36.000000\n",
       "max       113.000000\n",
       "Name: Critic_Count, dtype: float64"
      ]
     },
     "execution_count": 96,
     "metadata": {},
     "output_type": "execute_result"
    }
   ],
   "source": [
    "data.Critic_Count.describe()"
   ]
  },
  {
   "cell_type": "code",
   "execution_count": 97,
   "id": "c881de79",
   "metadata": {},
   "outputs": [
    {
     "data": {
      "text/plain": [
       "8582"
      ]
     },
     "execution_count": 97,
     "metadata": {},
     "output_type": "execute_result"
    }
   ],
   "source": [
    "data['Critic_Count'].isna().sum()\n"
   ]
  },
  {
   "cell_type": "code",
   "execution_count": 98,
   "id": "11cc19ea",
   "metadata": {},
   "outputs": [],
   "source": [
    "\n",
    "data.Critic_Count.fillna('26.360821',inplace=True)\n",
    "\n"
   ]
  },
  {
   "cell_type": "code",
   "execution_count": 99,
   "id": "1effbdd9",
   "metadata": {},
   "outputs": [
    {
     "data": {
      "text/plain": [
       "count         16719\n",
       "unique          107\n",
       "top       26.360821\n",
       "freq           8582\n",
       "Name: Critic_Count, dtype: object"
      ]
     },
     "execution_count": 99,
     "metadata": {},
     "output_type": "execute_result"
    }
   ],
   "source": [
    "data.Critic_Count.describe()"
   ]
  },
  {
   "cell_type": "markdown",
   "id": "cc22ecc4",
   "metadata": {},
   "source": [
    "<h1>DISCRETE DATAS\n",
    "    <h2>\n",
    "        \n",
    "        1.Platform\n",
    "        2.Genre\n",
    "        3.Publisher\n",
    "        4.Developer\n",
    "        5.Rating\n",
    "        6.User_Score\n",
    "    </h2>"
   ]
  },
  {
   "cell_type": "code",
   "execution_count": 100,
   "id": "54f195b4",
   "metadata": {},
   "outputs": [
    {
     "data": {
      "text/plain": [
       "<bound method NDFrame.describe of 0         Wii\n",
       "1         NES\n",
       "2         Wii\n",
       "3         Wii\n",
       "4          GB\n",
       "         ... \n",
       "16714      DS\n",
       "16715      PC\n",
       "16716     Wii\n",
       "16717    X360\n",
       "16718      DS\n",
       "Name: Platform, Length: 16719, dtype: object>"
      ]
     },
     "execution_count": 100,
     "metadata": {},
     "output_type": "execute_result"
    }
   ],
   "source": [
    "data.Platform.describe"
   ]
  },
  {
   "cell_type": "code",
   "execution_count": 101,
   "id": "6f16ebc9",
   "metadata": {},
   "outputs": [
    {
     "data": {
      "text/plain": [
       "0         Wii\n",
       "1         NES\n",
       "2         Wii\n",
       "3         Wii\n",
       "4          GB\n",
       "         ... \n",
       "16714      DS\n",
       "16715      PC\n",
       "16716     Wii\n",
       "16717    X360\n",
       "16718      DS\n",
       "Name: Platform, Length: 16719, dtype: object"
      ]
     },
     "execution_count": 101,
     "metadata": {},
     "output_type": "execute_result"
    }
   ],
   "source": [
    "data.Platform.fillna(\"others\")\n"
   ]
  },
  {
   "cell_type": "code",
   "execution_count": 102,
   "id": "0df90472",
   "metadata": {},
   "outputs": [
    {
     "data": {
      "text/plain": [
       "array(['Sports', 'Platform', 'Racing', 'Role-Playing', 'Puzzle', 'Misc',\n",
       "       'Shooter', 'Simulation', 'Action', 'Fighting', 'Adventure',\n",
       "       'Strategy', nan], dtype=object)"
      ]
     },
     "execution_count": 102,
     "metadata": {},
     "output_type": "execute_result"
    }
   ],
   "source": [
    "data.Genre.unique()"
   ]
  },
  {
   "cell_type": "code",
   "execution_count": 103,
   "id": "f96d4eb0",
   "metadata": {},
   "outputs": [
    {
     "data": {
      "text/plain": [
       "2"
      ]
     },
     "execution_count": 103,
     "metadata": {},
     "output_type": "execute_result"
    }
   ],
   "source": [
    "data.Genre.isnull().sum()"
   ]
  },
  {
   "cell_type": "code",
   "execution_count": 104,
   "id": "544b50fd",
   "metadata": {},
   "outputs": [
    {
     "data": {
      "text/html": [
       "<div>\n",
       "<style scoped>\n",
       "    .dataframe tbody tr th:only-of-type {\n",
       "        vertical-align: middle;\n",
       "    }\n",
       "\n",
       "    .dataframe tbody tr th {\n",
       "        vertical-align: top;\n",
       "    }\n",
       "\n",
       "    .dataframe thead th {\n",
       "        text-align: right;\n",
       "    }\n",
       "</style>\n",
       "<table border=\"1\" class=\"dataframe\">\n",
       "  <thead>\n",
       "    <tr style=\"text-align: right;\">\n",
       "      <th></th>\n",
       "      <th>Name</th>\n",
       "      <th>Platform</th>\n",
       "      <th>Year_of_Release</th>\n",
       "      <th>Genre</th>\n",
       "      <th>Publisher</th>\n",
       "      <th>NA_Sales</th>\n",
       "      <th>EU_Sales</th>\n",
       "      <th>JP_Sales</th>\n",
       "      <th>Critic_Score</th>\n",
       "      <th>Critic_Count</th>\n",
       "      <th>User_Score</th>\n",
       "      <th>User_Count</th>\n",
       "      <th>Developer</th>\n",
       "      <th>Rating</th>\n",
       "      <th>Global_Sales</th>\n",
       "    </tr>\n",
       "  </thead>\n",
       "  <tbody>\n",
       "    <tr>\n",
       "      <th>0</th>\n",
       "      <td>Need for Speed: Most Wanted</td>\n",
       "      <td>PS2</td>\n",
       "      <td>2008</td>\n",
       "      <td>Action</td>\n",
       "      <td>Electronic Arts</td>\n",
       "      <td>0.0</td>\n",
       "      <td>0.0</td>\n",
       "      <td>0.0</td>\n",
       "      <td>68.967679</td>\n",
       "      <td>26.360821</td>\n",
       "      <td>tbd</td>\n",
       "      <td>162.229908</td>\n",
       "      <td>Ubisoft</td>\n",
       "      <td>E</td>\n",
       "      <td>0.02</td>\n",
       "    </tr>\n",
       "  </tbody>\n",
       "</table>\n",
       "</div>"
      ],
      "text/plain": [
       "                          Name Platform  Year_of_Release   Genre  \\\n",
       "0  Need for Speed: Most Wanted      PS2             2008  Action   \n",
       "\n",
       "         Publisher  NA_Sales  EU_Sales  JP_Sales Critic_Score Critic_Count  \\\n",
       "0  Electronic Arts       0.0       0.0       0.0    68.967679    26.360821   \n",
       "\n",
       "  User_Score  User_Count Developer Rating  Global_Sales  \n",
       "0        tbd  162.229908   Ubisoft      E          0.02  "
      ]
     },
     "execution_count": 104,
     "metadata": {},
     "output_type": "execute_result"
    }
   ],
   "source": [
    "data.mode()"
   ]
  },
  {
   "cell_type": "code",
   "execution_count": 105,
   "id": "ec78b7f7",
   "metadata": {},
   "outputs": [
    {
     "data": {
      "text/plain": [
       "0              Sports\n",
       "1            Platform\n",
       "2              Racing\n",
       "3              Sports\n",
       "4        Role-Playing\n",
       "             ...     \n",
       "16714       Adventure\n",
       "16715    Role-Playing\n",
       "16716            Misc\n",
       "16717          Action\n",
       "16718          Action\n",
       "Name: Genre, Length: 16719, dtype: object"
      ]
     },
     "execution_count": 105,
     "metadata": {},
     "output_type": "execute_result"
    }
   ],
   "source": [
    "data.Genre.fillna(\"Action\")\n",
    "                                                                "
   ]
  },
  {
   "cell_type": "code",
   "execution_count": 106,
   "id": "8ae54a3c",
   "metadata": {},
   "outputs": [
    {
     "data": {
      "text/plain": [
       "2"
      ]
     },
     "execution_count": 106,
     "metadata": {},
     "output_type": "execute_result"
    }
   ],
   "source": [
    "data.Genre.isnull().sum()"
   ]
  },
  {
   "cell_type": "code",
   "execution_count": 107,
   "id": "2ad531c2",
   "metadata": {},
   "outputs": [
    {
     "name": "stderr",
     "output_type": "stream",
     "text": [
      "C:\\Users\\Dell\\anaconda3\\lib\\site-packages\\seaborn\\_decorators.py:36: FutureWarning: Pass the following variable as a keyword arg: x. From version 0.12, the only valid positional argument will be `data`, and passing other arguments without an explicit keyword will result in an error or misinterpretation.\n",
      "  warnings.warn(\n"
     ]
    },
    {
     "data": {
      "text/plain": [
       "<AxesSubplot:xlabel='Genre', ylabel='count'>"
      ]
     },
     "execution_count": 107,
     "metadata": {},
     "output_type": "execute_result"
    },
    {
     "data": {
      "image/png": "[encoded data removed]",
      "text/plain": [
       "<Figure size 432x288 with 1 Axes>"
      ]
     },
     "metadata": {
      "needs_background": "light"
     },
     "output_type": "display_data"
    }
   ],
   "source": [
    "sns.countplot(data.Genre)"
   ]
  },
  {
   "cell_type": "code",
   "execution_count": 108,
   "id": "f8d610ad",
   "metadata": {},
   "outputs": [
    {
     "name": "stderr",
     "output_type": "stream",
     "text": [
      "C:\\Users\\Dell\\anaconda3\\lib\\site-packages\\seaborn\\_decorators.py:36: FutureWarning: Pass the following variable as a keyword arg: x. From version 0.12, the only valid positional argument will be `data`, and passing other arguments without an explicit keyword will result in an error or misinterpretation.\n",
      "  warnings.warn(\n"
     ]
    },
    {
     "data": {
      "text/plain": [
       "<AxesSubplot:xlabel='Platform', ylabel='count'>"
      ]
     },
     "execution_count": 108,
     "metadata": {},
     "output_type": "execute_result"
    },
    {
     "data": {
      "image/png": "[encoded data removed]",
      "text/plain": [
       "<Figure size 432x288 with 1 Axes>"
      ]
     },
     "metadata": {
      "needs_background": "light"
     },
     "output_type": "display_data"
    }
   ],
   "source": [
    "sns.countplot(data.Platform)"
   ]
  },
  {
   "cell_type": "code",
   "execution_count": 109,
   "id": "31d19b2d",
   "metadata": {},
   "outputs": [
    {
     "name": "stderr",
     "output_type": "stream",
     "text": [
      "C:\\Users\\Dell\\anaconda3\\lib\\site-packages\\seaborn\\_decorators.py:36: FutureWarning: Pass the following variable as a keyword arg: x. From version 0.12, the only valid positional argument will be `data`, and passing other arguments without an explicit keyword will result in an error or misinterpretation.\n",
      "  warnings.warn(\n"
     ]
    },
    {
     "data": {
      "text/plain": [
       "<AxesSubplot:xlabel='Rating', ylabel='count'>"
      ]
     },
     "execution_count": 109,
     "metadata": {},
     "output_type": "execute_result"
    },
    {
     "data": {
      "image/png": "[encoded data removed]",
      "text/plain": [
       "<Figure size 432x288 with 1 Axes>"
      ]
     },
     "metadata": {
      "needs_background": "light"
     },
     "output_type": "display_data"
    }
   ],
   "source": [
    "sns.countplot(data.Rating)"
   ]
  },
  {
   "cell_type": "code",
   "execution_count": 110,
   "id": "8fd30c35",
   "metadata": {},
   "outputs": [
    {
     "data": {
      "text/plain": [
       "count     10015\n",
       "unique       96\n",
       "top         tbd\n",
       "freq       2425\n",
       "Name: User_Score, dtype: object"
      ]
     },
     "execution_count": 110,
     "metadata": {},
     "output_type": "execute_result"
    }
   ],
   "source": [
    "data.User_Score.describe()"
   ]
  },
  {
   "cell_type": "code",
   "execution_count": 111,
   "id": "90fb9752",
   "metadata": {},
   "outputs": [
    {
     "name": "stderr",
     "output_type": "stream",
     "text": [
      "C:\\Users\\Dell\\anaconda3\\lib\\site-packages\\seaborn\\_decorators.py:36: FutureWarning: Pass the following variable as a keyword arg: x. From version 0.12, the only valid positional argument will be `data`, and passing other arguments without an explicit keyword will result in an error or misinterpretation.\n",
      "  warnings.warn(\n"
     ]
    },
    {
     "data": {
      "text/plain": [
       "<AxesSubplot:xlabel='User_Score', ylabel='count'>"
      ]
     },
     "execution_count": 111,
     "metadata": {},
     "output_type": "execute_result"
    },
    {
     "data": {
      "image/png": "[encoded data removed]",
      "text/plain": [
       "<Figure size 432x288 with 1 Axes>"
      ]
     },
     "metadata": {
      "needs_background": "light"
     },
     "output_type": "display_data"
    }
   ],
   "source": [
    "\n",
    "sns.countplot(data.User_Score)"
   ]
  },
  {
   "cell_type": "code",
   "execution_count": 112,
   "id": "bef70b97",
   "metadata": {},
   "outputs": [
    {
     "data": {
      "text/plain": [
       "<bound method NDFrame.describe of 0           E\n",
       "1         NaN\n",
       "2           E\n",
       "3           E\n",
       "4         NaN\n",
       "         ... \n",
       "16714       M\n",
       "16715       M\n",
       "16716     NaN\n",
       "16717    E10+\n",
       "16718       E\n",
       "Name: Rating, Length: 16719, dtype: object>"
      ]
     },
     "execution_count": 112,
     "metadata": {},
     "output_type": "execute_result"
    }
   ],
   "source": [
    "data.Rating.describe"
   ]
  },
  {
   "cell_type": "code",
   "execution_count": 113,
   "id": "25ed9227",
   "metadata": {},
   "outputs": [
    {
     "data": {
      "text/plain": [
       "array(['E', nan, 'M', 'T', 'E10+', 'K-A', 'AO', 'EC', 'RP'], dtype=object)"
      ]
     },
     "execution_count": 113,
     "metadata": {},
     "output_type": "execute_result"
    }
   ],
   "source": [
    "data['Rating'].unique()"
   ]
  },
  {
   "cell_type": "code",
   "execution_count": 114,
   "id": "7da4a6a8",
   "metadata": {},
   "outputs": [
    {
     "name": "stdout",
     "output_type": "stream",
     "text": [
      "NaN in the Rating - 0\n"
     ]
    }
   ],
   "source": [
    "data['Rating'] = data['Rating'].replace('K-A', 'E').fillna('RP')\n",
    "print('NaN in the Rating - {}'.format(\n",
    "  data['Rating'].isna().sum()))"
   ]
  },
  {
   "cell_type": "code",
   "execution_count": 115,
   "id": "56936333",
   "metadata": {},
   "outputs": [
    {
     "data": {
      "text/plain": [
       "count     10015\n",
       "unique       96\n",
       "top         tbd\n",
       "freq       2425\n",
       "Name: User_Score, dtype: object"
      ]
     },
     "execution_count": 115,
     "metadata": {},
     "output_type": "execute_result"
    }
   ],
   "source": [
    "data.User_Score.describe()"
   ]
  },
  {
   "cell_type": "code",
   "execution_count": 116,
   "id": "97315f98",
   "metadata": {},
   "outputs": [],
   "source": [
    "data['User_Score']=pd.to_numeric(data[\"User_Score\"],errors='coerce')\n",
    "data=data.replace(np.nan,0,regex=True)"
   ]
  },
  {
   "cell_type": "code",
   "execution_count": 117,
   "id": "802c4145",
   "metadata": {},
   "outputs": [
    {
     "data": {
      "text/plain": [
       "0    0.0\n",
       "dtype: float64"
      ]
     },
     "execution_count": 117,
     "metadata": {},
     "output_type": "execute_result"
    }
   ],
   "source": [
    "data.User_Score.mode()"
   ]
  },
  {
   "cell_type": "code",
   "execution_count": 118,
   "id": "2b6e34a4",
   "metadata": {},
   "outputs": [
    {
     "data": {
      "text/html": [
       "<div>\n",
       "<style scoped>\n",
       "    .dataframe tbody tr th:only-of-type {\n",
       "        vertical-align: middle;\n",
       "    }\n",
       "\n",
       "    .dataframe tbody tr th {\n",
       "        vertical-align: top;\n",
       "    }\n",
       "\n",
       "    .dataframe thead th {\n",
       "        text-align: right;\n",
       "    }\n",
       "</style>\n",
       "<table border=\"1\" class=\"dataframe\">\n",
       "  <thead>\n",
       "    <tr style=\"text-align: right;\">\n",
       "      <th></th>\n",
       "      <th>Name</th>\n",
       "      <th>Platform</th>\n",
       "      <th>Year_of_Release</th>\n",
       "      <th>Genre</th>\n",
       "      <th>Publisher</th>\n",
       "      <th>NA_Sales</th>\n",
       "      <th>EU_Sales</th>\n",
       "      <th>JP_Sales</th>\n",
       "      <th>Critic_Score</th>\n",
       "      <th>Critic_Count</th>\n",
       "      <th>User_Score</th>\n",
       "      <th>User_Count</th>\n",
       "      <th>Developer</th>\n",
       "      <th>Rating</th>\n",
       "      <th>Global_Sales</th>\n",
       "    </tr>\n",
       "  </thead>\n",
       "  <tbody>\n",
       "    <tr>\n",
       "      <th>0</th>\n",
       "      <td>Wii Sports</td>\n",
       "      <td>Wii</td>\n",
       "      <td>2006</td>\n",
       "      <td>Sports</td>\n",
       "      <td>Nintendo</td>\n",
       "      <td>41.36</td>\n",
       "      <td>28.96</td>\n",
       "      <td>3.77</td>\n",
       "      <td>76.0</td>\n",
       "      <td>51.0</td>\n",
       "      <td>8.0</td>\n",
       "      <td>322.0</td>\n",
       "      <td>Nintendo</td>\n",
       "      <td>E</td>\n",
       "      <td>82.53</td>\n",
       "    </tr>\n",
       "    <tr>\n",
       "      <th>1</th>\n",
       "      <td>Super Mario Bros.</td>\n",
       "      <td>NES</td>\n",
       "      <td>1985</td>\n",
       "      <td>Platform</td>\n",
       "      <td>Nintendo</td>\n",
       "      <td>29.08</td>\n",
       "      <td>3.58</td>\n",
       "      <td>6.81</td>\n",
       "      <td>68.967679</td>\n",
       "      <td>26.360821</td>\n",
       "      <td>0.0</td>\n",
       "      <td>162.229908</td>\n",
       "      <td>0</td>\n",
       "      <td>RP</td>\n",
       "      <td>40.24</td>\n",
       "    </tr>\n",
       "    <tr>\n",
       "      <th>2</th>\n",
       "      <td>Mario Kart Wii</td>\n",
       "      <td>Wii</td>\n",
       "      <td>2008</td>\n",
       "      <td>Racing</td>\n",
       "      <td>Nintendo</td>\n",
       "      <td>15.68</td>\n",
       "      <td>12.76</td>\n",
       "      <td>3.79</td>\n",
       "      <td>82.0</td>\n",
       "      <td>73.0</td>\n",
       "      <td>8.3</td>\n",
       "      <td>709.0</td>\n",
       "      <td>Nintendo</td>\n",
       "      <td>E</td>\n",
       "      <td>35.52</td>\n",
       "    </tr>\n",
       "    <tr>\n",
       "      <th>3</th>\n",
       "      <td>Wii Sports Resort</td>\n",
       "      <td>Wii</td>\n",
       "      <td>2009</td>\n",
       "      <td>Sports</td>\n",
       "      <td>Nintendo</td>\n",
       "      <td>15.61</td>\n",
       "      <td>10.93</td>\n",
       "      <td>3.28</td>\n",
       "      <td>80.0</td>\n",
       "      <td>73.0</td>\n",
       "      <td>8.0</td>\n",
       "      <td>192.0</td>\n",
       "      <td>Nintendo</td>\n",
       "      <td>E</td>\n",
       "      <td>32.77</td>\n",
       "    </tr>\n",
       "    <tr>\n",
       "      <th>4</th>\n",
       "      <td>Pokemon Red/Pokemon Blue</td>\n",
       "      <td>GB</td>\n",
       "      <td>1996</td>\n",
       "      <td>Role-Playing</td>\n",
       "      <td>Nintendo</td>\n",
       "      <td>11.27</td>\n",
       "      <td>8.89</td>\n",
       "      <td>10.22</td>\n",
       "      <td>68.967679</td>\n",
       "      <td>26.360821</td>\n",
       "      <td>0.0</td>\n",
       "      <td>162.229908</td>\n",
       "      <td>0</td>\n",
       "      <td>RP</td>\n",
       "      <td>31.37</td>\n",
       "    </tr>\n",
       "    <tr>\n",
       "      <th>...</th>\n",
       "      <td>...</td>\n",
       "      <td>...</td>\n",
       "      <td>...</td>\n",
       "      <td>...</td>\n",
       "      <td>...</td>\n",
       "      <td>...</td>\n",
       "      <td>...</td>\n",
       "      <td>...</td>\n",
       "      <td>...</td>\n",
       "      <td>...</td>\n",
       "      <td>...</td>\n",
       "      <td>...</td>\n",
       "      <td>...</td>\n",
       "      <td>...</td>\n",
       "      <td>...</td>\n",
       "    </tr>\n",
       "    <tr>\n",
       "      <th>16714</th>\n",
       "      <td>Theresia...</td>\n",
       "      <td>DS</td>\n",
       "      <td>2008</td>\n",
       "      <td>Adventure</td>\n",
       "      <td>Arc System Works</td>\n",
       "      <td>0.05</td>\n",
       "      <td>0.00</td>\n",
       "      <td>0.00</td>\n",
       "      <td>61.0</td>\n",
       "      <td>6.0</td>\n",
       "      <td>8.0</td>\n",
       "      <td>8.0</td>\n",
       "      <td>WorkJam</td>\n",
       "      <td>M</td>\n",
       "      <td>0.00</td>\n",
       "    </tr>\n",
       "    <tr>\n",
       "      <th>16715</th>\n",
       "      <td>Sacred 2: Fallen Angel</td>\n",
       "      <td>PC</td>\n",
       "      <td>2008</td>\n",
       "      <td>Role-Playing</td>\n",
       "      <td>Ascaron Entertainment GmbH</td>\n",
       "      <td>0.00</td>\n",
       "      <td>0.05</td>\n",
       "      <td>0.00</td>\n",
       "      <td>71.0</td>\n",
       "      <td>41.0</td>\n",
       "      <td>6.9</td>\n",
       "      <td>203.0</td>\n",
       "      <td>Ascaron Entertainment GmbH, Ascaron Entertainment</td>\n",
       "      <td>M</td>\n",
       "      <td>0.00</td>\n",
       "    </tr>\n",
       "    <tr>\n",
       "      <th>16716</th>\n",
       "      <td>Dance Sensation!</td>\n",
       "      <td>Wii</td>\n",
       "      <td>2010</td>\n",
       "      <td>Misc</td>\n",
       "      <td>Majesco Entertainment</td>\n",
       "      <td>0.06</td>\n",
       "      <td>0.00</td>\n",
       "      <td>0.00</td>\n",
       "      <td>68.967679</td>\n",
       "      <td>26.360821</td>\n",
       "      <td>0.0</td>\n",
       "      <td>162.229908</td>\n",
       "      <td>0</td>\n",
       "      <td>RP</td>\n",
       "      <td>0.00</td>\n",
       "    </tr>\n",
       "    <tr>\n",
       "      <th>16717</th>\n",
       "      <td>Adventure Time: The Secret of the Nameless Kin...</td>\n",
       "      <td>X360</td>\n",
       "      <td>2014</td>\n",
       "      <td>Action</td>\n",
       "      <td>Little Orbit</td>\n",
       "      <td>0.00</td>\n",
       "      <td>0.05</td>\n",
       "      <td>0.00</td>\n",
       "      <td>58.0</td>\n",
       "      <td>5.0</td>\n",
       "      <td>7.5</td>\n",
       "      <td>4.0</td>\n",
       "      <td>WayForward</td>\n",
       "      <td>E10+</td>\n",
       "      <td>0.00</td>\n",
       "    </tr>\n",
       "    <tr>\n",
       "      <th>16718</th>\n",
       "      <td>Teenage Mutant Ninja Turtles 3: Mutant Nightmare</td>\n",
       "      <td>DS</td>\n",
       "      <td>2005</td>\n",
       "      <td>Action</td>\n",
       "      <td>Konami Digital Entertainment</td>\n",
       "      <td>0.05</td>\n",
       "      <td>0.00</td>\n",
       "      <td>0.00</td>\n",
       "      <td>58.0</td>\n",
       "      <td>10.0</td>\n",
       "      <td>7.0</td>\n",
       "      <td>5.0</td>\n",
       "      <td>Konami</td>\n",
       "      <td>E</td>\n",
       "      <td>0.00</td>\n",
       "    </tr>\n",
       "  </tbody>\n",
       "</table>\n",
       "<p>16719 rows × 15 columns</p>\n",
       "</div>"
      ],
      "text/plain": [
       "                                                    Name Platform  \\\n",
       "0                                             Wii Sports      Wii   \n",
       "1                                      Super Mario Bros.      NES   \n",
       "2                                         Mario Kart Wii      Wii   \n",
       "3                                      Wii Sports Resort      Wii   \n",
       "4                               Pokemon Red/Pokemon Blue       GB   \n",
       "...                                                  ...      ...   \n",
       "16714                                        Theresia...       DS   \n",
       "16715                             Sacred 2: Fallen Angel       PC   \n",
       "16716                                   Dance Sensation!      Wii   \n",
       "16717  Adventure Time: The Secret of the Nameless Kin...     X360   \n",
       "16718   Teenage Mutant Ninja Turtles 3: Mutant Nightmare       DS   \n",
       "\n",
       "       Year_of_Release         Genre                     Publisher  NA_Sales  \\\n",
       "0                 2006        Sports                      Nintendo     41.36   \n",
       "1                 1985      Platform                      Nintendo     29.08   \n",
       "2                 2008        Racing                      Nintendo     15.68   \n",
       "3                 2009        Sports                      Nintendo     15.61   \n",
       "4                 1996  Role-Playing                      Nintendo     11.27   \n",
       "...                ...           ...                           ...       ...   \n",
       "16714             2008     Adventure              Arc System Works      0.05   \n",
       "16715             2008  Role-Playing    Ascaron Entertainment GmbH      0.00   \n",
       "16716             2010          Misc         Majesco Entertainment      0.06   \n",
       "16717             2014        Action                  Little Orbit      0.00   \n",
       "16718             2005        Action  Konami Digital Entertainment      0.05   \n",
       "\n",
       "       EU_Sales  JP_Sales Critic_Score Critic_Count  User_Score  User_Count  \\\n",
       "0         28.96      3.77         76.0         51.0         8.0       322.0   \n",
       "1          3.58      6.81    68.967679    26.360821         0.0  162.229908   \n",
       "2         12.76      3.79         82.0         73.0         8.3       709.0   \n",
       "3         10.93      3.28         80.0         73.0         8.0       192.0   \n",
       "4          8.89     10.22    68.967679    26.360821         0.0  162.229908   \n",
       "...         ...       ...          ...          ...         ...         ...   \n",
       "16714      0.00      0.00         61.0          6.0         8.0         8.0   \n",
       "16715      0.05      0.00         71.0         41.0         6.9       203.0   \n",
       "16716      0.00      0.00    68.967679    26.360821         0.0  162.229908   \n",
       "16717      0.05      0.00         58.0          5.0         7.5         4.0   \n",
       "16718      0.00      0.00         58.0         10.0         7.0         5.0   \n",
       "\n",
       "                                               Developer Rating  Global_Sales  \n",
       "0                                               Nintendo      E         82.53  \n",
       "1                                                      0     RP         40.24  \n",
       "2                                               Nintendo      E         35.52  \n",
       "3                                               Nintendo      E         32.77  \n",
       "4                                                      0     RP         31.37  \n",
       "...                                                  ...    ...           ...  \n",
       "16714                                            WorkJam      M          0.00  \n",
       "16715  Ascaron Entertainment GmbH, Ascaron Entertainment      M          0.00  \n",
       "16716                                                  0     RP          0.00  \n",
       "16717                                         WayForward   E10+          0.00  \n",
       "16718                                             Konami      E          0.00  \n",
       "\n",
       "[16719 rows x 15 columns]"
      ]
     },
     "execution_count": 118,
     "metadata": {},
     "output_type": "execute_result"
    }
   ],
   "source": [
    "data"
   ]
  },
  {
   "cell_type": "code",
   "execution_count": 119,
   "id": "9e24b283",
   "metadata": {},
   "outputs": [
    {
     "data": {
      "text/plain": [
       "count    16719.000000\n",
       "mean         3.234589\n",
       "std          3.688653\n",
       "min          0.000000\n",
       "25%          0.000000\n",
       "50%          0.000000\n",
       "75%          7.300000\n",
       "max          9.700000\n",
       "Name: User_Score, dtype: float64"
      ]
     },
     "execution_count": 119,
     "metadata": {},
     "output_type": "execute_result"
    }
   ],
   "source": [
    "data.User_Score.describe()"
   ]
  },
  {
   "cell_type": "code",
   "execution_count": 120,
   "id": "450292fd",
   "metadata": {},
   "outputs": [],
   "source": [
    "from sklearn.preprocessing import normalize"
   ]
  },
  {
   "cell_type": "code",
   "execution_count": 121,
   "id": "dc99fd3f",
   "metadata": {},
   "outputs": [],
   "source": [
    "\n",
    "idata=data.drop(['Name','Publisher','Developer'],axis=1)"
   ]
  },
  {
   "cell_type": "code",
   "execution_count": 161,
   "id": "b77b50b4",
   "metadata": {},
   "outputs": [
    {
     "data": {
      "text/html": [
       "<div>\n",
       "<style scoped>\n",
       "    .dataframe tbody tr th:only-of-type {\n",
       "        vertical-align: middle;\n",
       "    }\n",
       "\n",
       "    .dataframe tbody tr th {\n",
       "        vertical-align: top;\n",
       "    }\n",
       "\n",
       "    .dataframe thead th {\n",
       "        text-align: right;\n",
       "    }\n",
       "</style>\n",
       "<table border=\"1\" class=\"dataframe\">\n",
       "  <thead>\n",
       "    <tr style=\"text-align: right;\">\n",
       "      <th></th>\n",
       "      <th>Year_of_Release</th>\n",
       "      <th>NA_Sales</th>\n",
       "      <th>EU_Sales</th>\n",
       "      <th>JP_Sales</th>\n",
       "      <th>User_Score</th>\n",
       "      <th>Global_Sales</th>\n",
       "      <th>Platform_2600</th>\n",
       "      <th>Platform_3DO</th>\n",
       "      <th>Platform_3DS</th>\n",
       "      <th>Platform_DC</th>\n",
       "      <th>...</th>\n",
       "      <th>User_Count_10179.0</th>\n",
       "      <th>User_Count_10665.0</th>\n",
       "      <th>User_Count_162.229908</th>\n",
       "      <th>Rating_AO</th>\n",
       "      <th>Rating_E</th>\n",
       "      <th>Rating_E10+</th>\n",
       "      <th>Rating_EC</th>\n",
       "      <th>Rating_M</th>\n",
       "      <th>Rating_RP</th>\n",
       "      <th>Rating_T</th>\n",
       "    </tr>\n",
       "  </thead>\n",
       "  <tbody>\n",
       "    <tr>\n",
       "      <th>0</th>\n",
       "      <td>2006</td>\n",
       "      <td>41.36</td>\n",
       "      <td>28.96</td>\n",
       "      <td>3.77</td>\n",
       "      <td>8.0</td>\n",
       "      <td>82.53</td>\n",
       "      <td>0</td>\n",
       "      <td>0</td>\n",
       "      <td>0</td>\n",
       "      <td>0</td>\n",
       "      <td>...</td>\n",
       "      <td>0</td>\n",
       "      <td>0</td>\n",
       "      <td>0</td>\n",
       "      <td>0</td>\n",
       "      <td>1</td>\n",
       "      <td>0</td>\n",
       "      <td>0</td>\n",
       "      <td>0</td>\n",
       "      <td>0</td>\n",
       "      <td>0</td>\n",
       "    </tr>\n",
       "    <tr>\n",
       "      <th>1</th>\n",
       "      <td>1985</td>\n",
       "      <td>29.08</td>\n",
       "      <td>3.58</td>\n",
       "      <td>6.81</td>\n",
       "      <td>0.0</td>\n",
       "      <td>40.24</td>\n",
       "      <td>0</td>\n",
       "      <td>0</td>\n",
       "      <td>0</td>\n",
       "      <td>0</td>\n",
       "      <td>...</td>\n",
       "      <td>0</td>\n",
       "      <td>0</td>\n",
       "      <td>1</td>\n",
       "      <td>0</td>\n",
       "      <td>0</td>\n",
       "      <td>0</td>\n",
       "      <td>0</td>\n",
       "      <td>0</td>\n",
       "      <td>1</td>\n",
       "      <td>0</td>\n",
       "    </tr>\n",
       "    <tr>\n",
       "      <th>2</th>\n",
       "      <td>2008</td>\n",
       "      <td>15.68</td>\n",
       "      <td>12.76</td>\n",
       "      <td>3.79</td>\n",
       "      <td>8.3</td>\n",
       "      <td>35.52</td>\n",
       "      <td>0</td>\n",
       "      <td>0</td>\n",
       "      <td>0</td>\n",
       "      <td>0</td>\n",
       "      <td>...</td>\n",
       "      <td>0</td>\n",
       "      <td>0</td>\n",
       "      <td>0</td>\n",
       "      <td>0</td>\n",
       "      <td>1</td>\n",
       "      <td>0</td>\n",
       "      <td>0</td>\n",
       "      <td>0</td>\n",
       "      <td>0</td>\n",
       "      <td>0</td>\n",
       "    </tr>\n",
       "    <tr>\n",
       "      <th>3</th>\n",
       "      <td>2009</td>\n",
       "      <td>15.61</td>\n",
       "      <td>10.93</td>\n",
       "      <td>3.28</td>\n",
       "      <td>8.0</td>\n",
       "      <td>32.77</td>\n",
       "      <td>0</td>\n",
       "      <td>0</td>\n",
       "      <td>0</td>\n",
       "      <td>0</td>\n",
       "      <td>...</td>\n",
       "      <td>0</td>\n",
       "      <td>0</td>\n",
       "      <td>0</td>\n",
       "      <td>0</td>\n",
       "      <td>1</td>\n",
       "      <td>0</td>\n",
       "      <td>0</td>\n",
       "      <td>0</td>\n",
       "      <td>0</td>\n",
       "      <td>0</td>\n",
       "    </tr>\n",
       "    <tr>\n",
       "      <th>4</th>\n",
       "      <td>1996</td>\n",
       "      <td>11.27</td>\n",
       "      <td>8.89</td>\n",
       "      <td>10.22</td>\n",
       "      <td>0.0</td>\n",
       "      <td>31.37</td>\n",
       "      <td>0</td>\n",
       "      <td>0</td>\n",
       "      <td>0</td>\n",
       "      <td>0</td>\n",
       "      <td>...</td>\n",
       "      <td>0</td>\n",
       "      <td>0</td>\n",
       "      <td>1</td>\n",
       "      <td>0</td>\n",
       "      <td>0</td>\n",
       "      <td>0</td>\n",
       "      <td>0</td>\n",
       "      <td>0</td>\n",
       "      <td>1</td>\n",
       "      <td>0</td>\n",
       "    </tr>\n",
       "    <tr>\n",
       "      <th>...</th>\n",
       "      <td>...</td>\n",
       "      <td>...</td>\n",
       "      <td>...</td>\n",
       "      <td>...</td>\n",
       "      <td>...</td>\n",
       "      <td>...</td>\n",
       "      <td>...</td>\n",
       "      <td>...</td>\n",
       "      <td>...</td>\n",
       "      <td>...</td>\n",
       "      <td>...</td>\n",
       "      <td>...</td>\n",
       "      <td>...</td>\n",
       "      <td>...</td>\n",
       "      <td>...</td>\n",
       "      <td>...</td>\n",
       "      <td>...</td>\n",
       "      <td>...</td>\n",
       "      <td>...</td>\n",
       "      <td>...</td>\n",
       "      <td>...</td>\n",
       "    </tr>\n",
       "    <tr>\n",
       "      <th>16714</th>\n",
       "      <td>2008</td>\n",
       "      <td>0.05</td>\n",
       "      <td>0.00</td>\n",
       "      <td>0.00</td>\n",
       "      <td>8.0</td>\n",
       "      <td>0.00</td>\n",
       "      <td>0</td>\n",
       "      <td>0</td>\n",
       "      <td>0</td>\n",
       "      <td>0</td>\n",
       "      <td>...</td>\n",
       "      <td>0</td>\n",
       "      <td>0</td>\n",
       "      <td>0</td>\n",
       "      <td>0</td>\n",
       "      <td>0</td>\n",
       "      <td>0</td>\n",
       "      <td>0</td>\n",
       "      <td>1</td>\n",
       "      <td>0</td>\n",
       "      <td>0</td>\n",
       "    </tr>\n",
       "    <tr>\n",
       "      <th>16715</th>\n",
       "      <td>2008</td>\n",
       "      <td>0.00</td>\n",
       "      <td>0.05</td>\n",
       "      <td>0.00</td>\n",
       "      <td>6.9</td>\n",
       "      <td>0.00</td>\n",
       "      <td>0</td>\n",
       "      <td>0</td>\n",
       "      <td>0</td>\n",
       "      <td>0</td>\n",
       "      <td>...</td>\n",
       "      <td>0</td>\n",
       "      <td>0</td>\n",
       "      <td>0</td>\n",
       "      <td>0</td>\n",
       "      <td>0</td>\n",
       "      <td>0</td>\n",
       "      <td>0</td>\n",
       "      <td>1</td>\n",
       "      <td>0</td>\n",
       "      <td>0</td>\n",
       "    </tr>\n",
       "    <tr>\n",
       "      <th>16716</th>\n",
       "      <td>2010</td>\n",
       "      <td>0.06</td>\n",
       "      <td>0.00</td>\n",
       "      <td>0.00</td>\n",
       "      <td>0.0</td>\n",
       "      <td>0.00</td>\n",
       "      <td>0</td>\n",
       "      <td>0</td>\n",
       "      <td>0</td>\n",
       "      <td>0</td>\n",
       "      <td>...</td>\n",
       "      <td>0</td>\n",
       "      <td>0</td>\n",
       "      <td>1</td>\n",
       "      <td>0</td>\n",
       "      <td>0</td>\n",
       "      <td>0</td>\n",
       "      <td>0</td>\n",
       "      <td>0</td>\n",
       "      <td>1</td>\n",
       "      <td>0</td>\n",
       "    </tr>\n",
       "    <tr>\n",
       "      <th>16717</th>\n",
       "      <td>2014</td>\n",
       "      <td>0.00</td>\n",
       "      <td>0.05</td>\n",
       "      <td>0.00</td>\n",
       "      <td>7.5</td>\n",
       "      <td>0.00</td>\n",
       "      <td>0</td>\n",
       "      <td>0</td>\n",
       "      <td>0</td>\n",
       "      <td>0</td>\n",
       "      <td>...</td>\n",
       "      <td>0</td>\n",
       "      <td>0</td>\n",
       "      <td>0</td>\n",
       "      <td>0</td>\n",
       "      <td>0</td>\n",
       "      <td>1</td>\n",
       "      <td>0</td>\n",
       "      <td>0</td>\n",
       "      <td>0</td>\n",
       "      <td>0</td>\n",
       "    </tr>\n",
       "    <tr>\n",
       "      <th>16718</th>\n",
       "      <td>2005</td>\n",
       "      <td>0.05</td>\n",
       "      <td>0.00</td>\n",
       "      <td>0.00</td>\n",
       "      <td>7.0</td>\n",
       "      <td>0.00</td>\n",
       "      <td>0</td>\n",
       "      <td>0</td>\n",
       "      <td>0</td>\n",
       "      <td>0</td>\n",
       "      <td>...</td>\n",
       "      <td>0</td>\n",
       "      <td>0</td>\n",
       "      <td>0</td>\n",
       "      <td>0</td>\n",
       "      <td>1</td>\n",
       "      <td>0</td>\n",
       "      <td>0</td>\n",
       "      <td>0</td>\n",
       "      <td>0</td>\n",
       "      <td>0</td>\n",
       "    </tr>\n",
       "  </tbody>\n",
       "</table>\n",
       "<p>16719 rows × 1136 columns</p>\n",
       "</div>"
      ],
      "text/plain": [
       "       Year_of_Release  NA_Sales  EU_Sales  JP_Sales  User_Score  \\\n",
       "0                 2006     41.36     28.96      3.77         8.0   \n",
       "1                 1985     29.08      3.58      6.81         0.0   \n",
       "2                 2008     15.68     12.76      3.79         8.3   \n",
       "3                 2009     15.61     10.93      3.28         8.0   \n",
       "4                 1996     11.27      8.89     10.22         0.0   \n",
       "...                ...       ...       ...       ...         ...   \n",
       "16714             2008      0.05      0.00      0.00         8.0   \n",
       "16715             2008      0.00      0.05      0.00         6.9   \n",
       "16716             2010      0.06      0.00      0.00         0.0   \n",
       "16717             2014      0.00      0.05      0.00         7.5   \n",
       "16718             2005      0.05      0.00      0.00         7.0   \n",
       "\n",
       "       Global_Sales  Platform_2600  Platform_3DO  Platform_3DS  Platform_DC  \\\n",
       "0             82.53              0             0             0            0   \n",
       "1             40.24              0             0             0            0   \n",
       "2             35.52              0             0             0            0   \n",
       "3             32.77              0             0             0            0   \n",
       "4             31.37              0             0             0            0   \n",
       "...             ...            ...           ...           ...          ...   \n",
       "16714          0.00              0             0             0            0   \n",
       "16715          0.00              0             0             0            0   \n",
       "16716          0.00              0             0             0            0   \n",
       "16717          0.00              0             0             0            0   \n",
       "16718          0.00              0             0             0            0   \n",
       "\n",
       "       ...  User_Count_10179.0  User_Count_10665.0  User_Count_162.229908  \\\n",
       "0      ...                   0                   0                      0   \n",
       "1      ...                   0                   0                      1   \n",
       "2      ...                   0                   0                      0   \n",
       "3      ...                   0                   0                      0   \n",
       "4      ...                   0                   0                      1   \n",
       "...    ...                 ...                 ...                    ...   \n",
       "16714  ...                   0                   0                      0   \n",
       "16715  ...                   0                   0                      0   \n",
       "16716  ...                   0                   0                      1   \n",
       "16717  ...                   0                   0                      0   \n",
       "16718  ...                   0                   0                      0   \n",
       "\n",
       "       Rating_AO  Rating_E  Rating_E10+  Rating_EC  Rating_M  Rating_RP  \\\n",
       "0              0         1            0          0         0          0   \n",
       "1              0         0            0          0         0          1   \n",
       "2              0         1            0          0         0          0   \n",
       "3              0         1            0          0         0          0   \n",
       "4              0         0            0          0         0          1   \n",
       "...          ...       ...          ...        ...       ...        ...   \n",
       "16714          0         0            0          0         1          0   \n",
       "16715          0         0            0          0         1          0   \n",
       "16716          0         0            0          0         0          1   \n",
       "16717          0         0            1          0         0          0   \n",
       "16718          0         1            0          0         0          0   \n",
       "\n",
       "       Rating_T  \n",
       "0             0  \n",
       "1             0  \n",
       "2             0  \n",
       "3             0  \n",
       "4             0  \n",
       "...         ...  \n",
       "16714         0  \n",
       "16715         0  \n",
       "16716         0  \n",
       "16717         0  \n",
       "16718         0  \n",
       "\n",
       "[16719 rows x 1136 columns]"
      ]
     },
     "execution_count": 161,
     "metadata": {},
     "output_type": "execute_result"
    }
   ],
   "source": [
    "dummy=pd.get_dummies(idata)\n",
    "dummy"
   ]
  },
  {
   "cell_type": "code",
   "execution_count": 162,
   "id": "efb510ce",
   "metadata": {},
   "outputs": [],
   "source": [
    "y=dummy['Global_Sales']\n",
    "x=dummy.drop('Global_Sales',axis=1)"
   ]
  },
  {
   "cell_type": "code",
   "execution_count": 163,
   "id": "b5aa6517",
   "metadata": {},
   "outputs": [
    {
     "data": {
      "text/html": [
       "<div>\n",
       "<style scoped>\n",
       "    .dataframe tbody tr th:only-of-type {\n",
       "        vertical-align: middle;\n",
       "    }\n",
       "\n",
       "    .dataframe tbody tr th {\n",
       "        vertical-align: top;\n",
       "    }\n",
       "\n",
       "    .dataframe thead th {\n",
       "        text-align: right;\n",
       "    }\n",
       "</style>\n",
       "<table border=\"1\" class=\"dataframe\">\n",
       "  <thead>\n",
       "    <tr style=\"text-align: right;\">\n",
       "      <th></th>\n",
       "      <th>Year_of_Release</th>\n",
       "      <th>NA_Sales</th>\n",
       "      <th>EU_Sales</th>\n",
       "      <th>JP_Sales</th>\n",
       "      <th>User_Score</th>\n",
       "      <th>Platform_2600</th>\n",
       "      <th>Platform_3DO</th>\n",
       "      <th>Platform_3DS</th>\n",
       "      <th>Platform_DC</th>\n",
       "      <th>Platform_DS</th>\n",
       "      <th>...</th>\n",
       "      <th>User_Count_10179.0</th>\n",
       "      <th>User_Count_10665.0</th>\n",
       "      <th>User_Count_162.229908</th>\n",
       "      <th>Rating_AO</th>\n",
       "      <th>Rating_E</th>\n",
       "      <th>Rating_E10+</th>\n",
       "      <th>Rating_EC</th>\n",
       "      <th>Rating_M</th>\n",
       "      <th>Rating_RP</th>\n",
       "      <th>Rating_T</th>\n",
       "    </tr>\n",
       "  </thead>\n",
       "  <tbody>\n",
       "    <tr>\n",
       "      <th>0</th>\n",
       "      <td>2006</td>\n",
       "      <td>41.36</td>\n",
       "      <td>28.96</td>\n",
       "      <td>3.77</td>\n",
       "      <td>8.0</td>\n",
       "      <td>0</td>\n",
       "      <td>0</td>\n",
       "      <td>0</td>\n",
       "      <td>0</td>\n",
       "      <td>0</td>\n",
       "      <td>...</td>\n",
       "      <td>0</td>\n",
       "      <td>0</td>\n",
       "      <td>0</td>\n",
       "      <td>0</td>\n",
       "      <td>1</td>\n",
       "      <td>0</td>\n",
       "      <td>0</td>\n",
       "      <td>0</td>\n",
       "      <td>0</td>\n",
       "      <td>0</td>\n",
       "    </tr>\n",
       "    <tr>\n",
       "      <th>1</th>\n",
       "      <td>1985</td>\n",
       "      <td>29.08</td>\n",
       "      <td>3.58</td>\n",
       "      <td>6.81</td>\n",
       "      <td>0.0</td>\n",
       "      <td>0</td>\n",
       "      <td>0</td>\n",
       "      <td>0</td>\n",
       "      <td>0</td>\n",
       "      <td>0</td>\n",
       "      <td>...</td>\n",
       "      <td>0</td>\n",
       "      <td>0</td>\n",
       "      <td>1</td>\n",
       "      <td>0</td>\n",
       "      <td>0</td>\n",
       "      <td>0</td>\n",
       "      <td>0</td>\n",
       "      <td>0</td>\n",
       "      <td>1</td>\n",
       "      <td>0</td>\n",
       "    </tr>\n",
       "    <tr>\n",
       "      <th>2</th>\n",
       "      <td>2008</td>\n",
       "      <td>15.68</td>\n",
       "      <td>12.76</td>\n",
       "      <td>3.79</td>\n",
       "      <td>8.3</td>\n",
       "      <td>0</td>\n",
       "      <td>0</td>\n",
       "      <td>0</td>\n",
       "      <td>0</td>\n",
       "      <td>0</td>\n",
       "      <td>...</td>\n",
       "      <td>0</td>\n",
       "      <td>0</td>\n",
       "      <td>0</td>\n",
       "      <td>0</td>\n",
       "      <td>1</td>\n",
       "      <td>0</td>\n",
       "      <td>0</td>\n",
       "      <td>0</td>\n",
       "      <td>0</td>\n",
       "      <td>0</td>\n",
       "    </tr>\n",
       "    <tr>\n",
       "      <th>3</th>\n",
       "      <td>2009</td>\n",
       "      <td>15.61</td>\n",
       "      <td>10.93</td>\n",
       "      <td>3.28</td>\n",
       "      <td>8.0</td>\n",
       "      <td>0</td>\n",
       "      <td>0</td>\n",
       "      <td>0</td>\n",
       "      <td>0</td>\n",
       "      <td>0</td>\n",
       "      <td>...</td>\n",
       "      <td>0</td>\n",
       "      <td>0</td>\n",
       "      <td>0</td>\n",
       "      <td>0</td>\n",
       "      <td>1</td>\n",
       "      <td>0</td>\n",
       "      <td>0</td>\n",
       "      <td>0</td>\n",
       "      <td>0</td>\n",
       "      <td>0</td>\n",
       "    </tr>\n",
       "    <tr>\n",
       "      <th>4</th>\n",
       "      <td>1996</td>\n",
       "      <td>11.27</td>\n",
       "      <td>8.89</td>\n",
       "      <td>10.22</td>\n",
       "      <td>0.0</td>\n",
       "      <td>0</td>\n",
       "      <td>0</td>\n",
       "      <td>0</td>\n",
       "      <td>0</td>\n",
       "      <td>0</td>\n",
       "      <td>...</td>\n",
       "      <td>0</td>\n",
       "      <td>0</td>\n",
       "      <td>1</td>\n",
       "      <td>0</td>\n",
       "      <td>0</td>\n",
       "      <td>0</td>\n",
       "      <td>0</td>\n",
       "      <td>0</td>\n",
       "      <td>1</td>\n",
       "      <td>0</td>\n",
       "    </tr>\n",
       "    <tr>\n",
       "      <th>...</th>\n",
       "      <td>...</td>\n",
       "      <td>...</td>\n",
       "      <td>...</td>\n",
       "      <td>...</td>\n",
       "      <td>...</td>\n",
       "      <td>...</td>\n",
       "      <td>...</td>\n",
       "      <td>...</td>\n",
       "      <td>...</td>\n",
       "      <td>...</td>\n",
       "      <td>...</td>\n",
       "      <td>...</td>\n",
       "      <td>...</td>\n",
       "      <td>...</td>\n",
       "      <td>...</td>\n",
       "      <td>...</td>\n",
       "      <td>...</td>\n",
       "      <td>...</td>\n",
       "      <td>...</td>\n",
       "      <td>...</td>\n",
       "      <td>...</td>\n",
       "    </tr>\n",
       "    <tr>\n",
       "      <th>16714</th>\n",
       "      <td>2008</td>\n",
       "      <td>0.05</td>\n",
       "      <td>0.00</td>\n",
       "      <td>0.00</td>\n",
       "      <td>8.0</td>\n",
       "      <td>0</td>\n",
       "      <td>0</td>\n",
       "      <td>0</td>\n",
       "      <td>0</td>\n",
       "      <td>1</td>\n",
       "      <td>...</td>\n",
       "      <td>0</td>\n",
       "      <td>0</td>\n",
       "      <td>0</td>\n",
       "      <td>0</td>\n",
       "      <td>0</td>\n",
       "      <td>0</td>\n",
       "      <td>0</td>\n",
       "      <td>1</td>\n",
       "      <td>0</td>\n",
       "      <td>0</td>\n",
       "    </tr>\n",
       "    <tr>\n",
       "      <th>16715</th>\n",
       "      <td>2008</td>\n",
       "      <td>0.00</td>\n",
       "      <td>0.05</td>\n",
       "      <td>0.00</td>\n",
       "      <td>6.9</td>\n",
       "      <td>0</td>\n",
       "      <td>0</td>\n",
       "      <td>0</td>\n",
       "      <td>0</td>\n",
       "      <td>0</td>\n",
       "      <td>...</td>\n",
       "      <td>0</td>\n",
       "      <td>0</td>\n",
       "      <td>0</td>\n",
       "      <td>0</td>\n",
       "      <td>0</td>\n",
       "      <td>0</td>\n",
       "      <td>0</td>\n",
       "      <td>1</td>\n",
       "      <td>0</td>\n",
       "      <td>0</td>\n",
       "    </tr>\n",
       "    <tr>\n",
       "      <th>16716</th>\n",
       "      <td>2010</td>\n",
       "      <td>0.06</td>\n",
       "      <td>0.00</td>\n",
       "      <td>0.00</td>\n",
       "      <td>0.0</td>\n",
       "      <td>0</td>\n",
       "      <td>0</td>\n",
       "      <td>0</td>\n",
       "      <td>0</td>\n",
       "      <td>0</td>\n",
       "      <td>...</td>\n",
       "      <td>0</td>\n",
       "      <td>0</td>\n",
       "      <td>1</td>\n",
       "      <td>0</td>\n",
       "      <td>0</td>\n",
       "      <td>0</td>\n",
       "      <td>0</td>\n",
       "      <td>0</td>\n",
       "      <td>1</td>\n",
       "      <td>0</td>\n",
       "    </tr>\n",
       "    <tr>\n",
       "      <th>16717</th>\n",
       "      <td>2014</td>\n",
       "      <td>0.00</td>\n",
       "      <td>0.05</td>\n",
       "      <td>0.00</td>\n",
       "      <td>7.5</td>\n",
       "      <td>0</td>\n",
       "      <td>0</td>\n",
       "      <td>0</td>\n",
       "      <td>0</td>\n",
       "      <td>0</td>\n",
       "      <td>...</td>\n",
       "      <td>0</td>\n",
       "      <td>0</td>\n",
       "      <td>0</td>\n",
       "      <td>0</td>\n",
       "      <td>0</td>\n",
       "      <td>1</td>\n",
       "      <td>0</td>\n",
       "      <td>0</td>\n",
       "      <td>0</td>\n",
       "      <td>0</td>\n",
       "    </tr>\n",
       "    <tr>\n",
       "      <th>16718</th>\n",
       "      <td>2005</td>\n",
       "      <td>0.05</td>\n",
       "      <td>0.00</td>\n",
       "      <td>0.00</td>\n",
       "      <td>7.0</td>\n",
       "      <td>0</td>\n",
       "      <td>0</td>\n",
       "      <td>0</td>\n",
       "      <td>0</td>\n",
       "      <td>1</td>\n",
       "      <td>...</td>\n",
       "      <td>0</td>\n",
       "      <td>0</td>\n",
       "      <td>0</td>\n",
       "      <td>0</td>\n",
       "      <td>1</td>\n",
       "      <td>0</td>\n",
       "      <td>0</td>\n",
       "      <td>0</td>\n",
       "      <td>0</td>\n",
       "      <td>0</td>\n",
       "    </tr>\n",
       "  </tbody>\n",
       "</table>\n",
       "<p>16719 rows × 1135 columns</p>\n",
       "</div>"
      ],
      "text/plain": [
       "       Year_of_Release  NA_Sales  EU_Sales  JP_Sales  User_Score  \\\n",
       "0                 2006     41.36     28.96      3.77         8.0   \n",
       "1                 1985     29.08      3.58      6.81         0.0   \n",
       "2                 2008     15.68     12.76      3.79         8.3   \n",
       "3                 2009     15.61     10.93      3.28         8.0   \n",
       "4                 1996     11.27      8.89     10.22         0.0   \n",
       "...                ...       ...       ...       ...         ...   \n",
       "16714             2008      0.05      0.00      0.00         8.0   \n",
       "16715             2008      0.00      0.05      0.00         6.9   \n",
       "16716             2010      0.06      0.00      0.00         0.0   \n",
       "16717             2014      0.00      0.05      0.00         7.5   \n",
       "16718             2005      0.05      0.00      0.00         7.0   \n",
       "\n",
       "       Platform_2600  Platform_3DO  Platform_3DS  Platform_DC  Platform_DS  \\\n",
       "0                  0             0             0            0            0   \n",
       "1                  0             0             0            0            0   \n",
       "2                  0             0             0            0            0   \n",
       "3                  0             0             0            0            0   \n",
       "4                  0             0             0            0            0   \n",
       "...              ...           ...           ...          ...          ...   \n",
       "16714              0             0             0            0            1   \n",
       "16715              0             0             0            0            0   \n",
       "16716              0             0             0            0            0   \n",
       "16717              0             0             0            0            0   \n",
       "16718              0             0             0            0            1   \n",
       "\n",
       "       ...  User_Count_10179.0  User_Count_10665.0  User_Count_162.229908  \\\n",
       "0      ...                   0                   0                      0   \n",
       "1      ...                   0                   0                      1   \n",
       "2      ...                   0                   0                      0   \n",
       "3      ...                   0                   0                      0   \n",
       "4      ...                   0                   0                      1   \n",
       "...    ...                 ...                 ...                    ...   \n",
       "16714  ...                   0                   0                      0   \n",
       "16715  ...                   0                   0                      0   \n",
       "16716  ...                   0                   0                      1   \n",
       "16717  ...                   0                   0                      0   \n",
       "16718  ...                   0                   0                      0   \n",
       "\n",
       "       Rating_AO  Rating_E  Rating_E10+  Rating_EC  Rating_M  Rating_RP  \\\n",
       "0              0         1            0          0         0          0   \n",
       "1              0         0            0          0         0          1   \n",
       "2              0         1            0          0         0          0   \n",
       "3              0         1            0          0         0          0   \n",
       "4              0         0            0          0         0          1   \n",
       "...          ...       ...          ...        ...       ...        ...   \n",
       "16714          0         0            0          0         1          0   \n",
       "16715          0         0            0          0         1          0   \n",
       "16716          0         0            0          0         0          1   \n",
       "16717          0         0            1          0         0          0   \n",
       "16718          0         1            0          0         0          0   \n",
       "\n",
       "       Rating_T  \n",
       "0             0  \n",
       "1             0  \n",
       "2             0  \n",
       "3             0  \n",
       "4             0  \n",
       "...         ...  \n",
       "16714         0  \n",
       "16715         0  \n",
       "16716         0  \n",
       "16717         0  \n",
       "16718         0  \n",
       "\n",
       "[16719 rows x 1135 columns]"
      ]
     },
     "execution_count": 163,
     "metadata": {},
     "output_type": "execute_result"
    }
   ],
   "source": [
    "x\n"
   ]
  },
  {
   "cell_type": "code",
   "execution_count": 164,
   "id": "1c7346d6",
   "metadata": {},
   "outputs": [],
   "source": [
    "from sklearn.preprocessing import StandardScaler\n",
    "scaler=StandardScaler()\n",
    "x=scaler.fit_transform(x)"
   ]
  },
  {
   "cell_type": "code",
   "execution_count": 165,
   "id": "f5bde974",
   "metadata": {},
   "outputs": [
    {
     "data": {
      "text/html": [
       "<div>\n",
       "<style scoped>\n",
       "    .dataframe tbody tr th:only-of-type {\n",
       "        vertical-align: middle;\n",
       "    }\n",
       "\n",
       "    .dataframe tbody tr th {\n",
       "        vertical-align: top;\n",
       "    }\n",
       "\n",
       "    .dataframe thead th {\n",
       "        text-align: right;\n",
       "    }\n",
       "</style>\n",
       "<table border=\"1\" class=\"dataframe\">\n",
       "  <thead>\n",
       "    <tr style=\"text-align: right;\">\n",
       "      <th></th>\n",
       "      <th>0</th>\n",
       "      <th>1</th>\n",
       "      <th>2</th>\n",
       "      <th>3</th>\n",
       "      <th>4</th>\n",
       "      <th>5</th>\n",
       "      <th>6</th>\n",
       "      <th>7</th>\n",
       "      <th>8</th>\n",
       "      <th>9</th>\n",
       "      <th>...</th>\n",
       "      <th>1125</th>\n",
       "      <th>1126</th>\n",
       "      <th>1127</th>\n",
       "      <th>1128</th>\n",
       "      <th>1129</th>\n",
       "      <th>1130</th>\n",
       "      <th>1131</th>\n",
       "      <th>1132</th>\n",
       "      <th>1133</th>\n",
       "      <th>1134</th>\n",
       "    </tr>\n",
       "  </thead>\n",
       "  <tbody>\n",
       "    <tr>\n",
       "      <th>0</th>\n",
       "      <td>0.125913</td>\n",
       "      <td>50.518992</td>\n",
       "      <td>57.255699</td>\n",
       "      <td>11.956905</td>\n",
       "      <td>1.291949</td>\n",
       "      <td>-0.089548</td>\n",
       "      <td>-0.013397</td>\n",
       "      <td>-0.179167</td>\n",
       "      <td>-0.055856</td>\n",
       "      <td>-0.384358</td>\n",
       "      <td>...</td>\n",
       "      <td>-0.007734</td>\n",
       "      <td>-0.007734</td>\n",
       "      <td>-1.096707</td>\n",
       "      <td>-0.007734</td>\n",
       "      <td>1.784945</td>\n",
       "      <td>-0.304658</td>\n",
       "      <td>-0.02188</td>\n",
       "      <td>-0.321135</td>\n",
       "      <td>-0.825111</td>\n",
       "      <td>-0.463918</td>\n",
       "    </tr>\n",
       "    <tr>\n",
       "      <th>1</th>\n",
       "      <td>0.042752</td>\n",
       "      <td>35.423530</td>\n",
       "      <td>6.825337</td>\n",
       "      <td>21.801182</td>\n",
       "      <td>-0.876929</td>\n",
       "      <td>-0.089548</td>\n",
       "      <td>-0.013397</td>\n",
       "      <td>-0.179167</td>\n",
       "      <td>-0.055856</td>\n",
       "      <td>-0.384358</td>\n",
       "      <td>...</td>\n",
       "      <td>-0.007734</td>\n",
       "      <td>-0.007734</td>\n",
       "      <td>0.911820</td>\n",
       "      <td>-0.007734</td>\n",
       "      <td>-0.560241</td>\n",
       "      <td>-0.304658</td>\n",
       "      <td>-0.02188</td>\n",
       "      <td>-0.321135</td>\n",
       "      <td>1.211958</td>\n",
       "      <td>-0.463918</td>\n",
       "    </tr>\n",
       "    <tr>\n",
       "      <th>2</th>\n",
       "      <td>0.133833</td>\n",
       "      <td>18.951283</td>\n",
       "      <td>25.066106</td>\n",
       "      <td>12.021669</td>\n",
       "      <td>1.373282</td>\n",
       "      <td>-0.089548</td>\n",
       "      <td>-0.013397</td>\n",
       "      <td>-0.179167</td>\n",
       "      <td>-0.055856</td>\n",
       "      <td>-0.384358</td>\n",
       "      <td>...</td>\n",
       "      <td>-0.007734</td>\n",
       "      <td>-0.007734</td>\n",
       "      <td>-1.096707</td>\n",
       "      <td>-0.007734</td>\n",
       "      <td>1.784945</td>\n",
       "      <td>-0.304658</td>\n",
       "      <td>-0.02188</td>\n",
       "      <td>-0.321135</td>\n",
       "      <td>-0.825111</td>\n",
       "      <td>-0.463918</td>\n",
       "    </tr>\n",
       "    <tr>\n",
       "      <th>3</th>\n",
       "      <td>0.137793</td>\n",
       "      <td>18.865234</td>\n",
       "      <td>21.429874</td>\n",
       "      <td>10.370162</td>\n",
       "      <td>1.291949</td>\n",
       "      <td>-0.089548</td>\n",
       "      <td>-0.013397</td>\n",
       "      <td>-0.179167</td>\n",
       "      <td>-0.055856</td>\n",
       "      <td>-0.384358</td>\n",
       "      <td>...</td>\n",
       "      <td>-0.007734</td>\n",
       "      <td>-0.007734</td>\n",
       "      <td>-1.096707</td>\n",
       "      <td>-0.007734</td>\n",
       "      <td>1.784945</td>\n",
       "      <td>-0.304658</td>\n",
       "      <td>-0.02188</td>\n",
       "      <td>-0.321135</td>\n",
       "      <td>-0.825111</td>\n",
       "      <td>-0.463918</td>\n",
       "    </tr>\n",
       "    <tr>\n",
       "      <th>4</th>\n",
       "      <td>0.086313</td>\n",
       "      <td>13.530193</td>\n",
       "      <td>17.376370</td>\n",
       "      <td>32.843612</td>\n",
       "      <td>-0.876929</td>\n",
       "      <td>-0.089548</td>\n",
       "      <td>-0.013397</td>\n",
       "      <td>-0.179167</td>\n",
       "      <td>-0.055856</td>\n",
       "      <td>-0.384358</td>\n",
       "      <td>...</td>\n",
       "      <td>-0.007734</td>\n",
       "      <td>-0.007734</td>\n",
       "      <td>0.911820</td>\n",
       "      <td>-0.007734</td>\n",
       "      <td>-0.560241</td>\n",
       "      <td>-0.304658</td>\n",
       "      <td>-0.02188</td>\n",
       "      <td>-0.321135</td>\n",
       "      <td>1.211958</td>\n",
       "      <td>-0.463918</td>\n",
       "    </tr>\n",
       "    <tr>\n",
       "      <th>...</th>\n",
       "      <td>...</td>\n",
       "      <td>...</td>\n",
       "      <td>...</td>\n",
       "      <td>...</td>\n",
       "      <td>...</td>\n",
       "      <td>...</td>\n",
       "      <td>...</td>\n",
       "      <td>...</td>\n",
       "      <td>...</td>\n",
       "      <td>...</td>\n",
       "      <td>...</td>\n",
       "      <td>...</td>\n",
       "      <td>...</td>\n",
       "      <td>...</td>\n",
       "      <td>...</td>\n",
       "      <td>...</td>\n",
       "      <td>...</td>\n",
       "      <td>...</td>\n",
       "      <td>...</td>\n",
       "      <td>...</td>\n",
       "      <td>...</td>\n",
       "    </tr>\n",
       "    <tr>\n",
       "      <th>16714</th>\n",
       "      <td>0.133833</td>\n",
       "      <td>-0.262241</td>\n",
       "      <td>-0.288166</td>\n",
       "      <td>-0.251295</td>\n",
       "      <td>1.291949</td>\n",
       "      <td>-0.089548</td>\n",
       "      <td>-0.013397</td>\n",
       "      <td>-0.179167</td>\n",
       "      <td>-0.055856</td>\n",
       "      <td>2.601740</td>\n",
       "      <td>...</td>\n",
       "      <td>-0.007734</td>\n",
       "      <td>-0.007734</td>\n",
       "      <td>-1.096707</td>\n",
       "      <td>-0.007734</td>\n",
       "      <td>-0.560241</td>\n",
       "      <td>-0.304658</td>\n",
       "      <td>-0.02188</td>\n",
       "      <td>3.113958</td>\n",
       "      <td>-0.825111</td>\n",
       "      <td>-0.463918</td>\n",
       "    </tr>\n",
       "    <tr>\n",
       "      <th>16715</th>\n",
       "      <td>0.133833</td>\n",
       "      <td>-0.323705</td>\n",
       "      <td>-0.188815</td>\n",
       "      <td>-0.251295</td>\n",
       "      <td>0.993729</td>\n",
       "      <td>-0.089548</td>\n",
       "      <td>-0.013397</td>\n",
       "      <td>-0.179167</td>\n",
       "      <td>-0.055856</td>\n",
       "      <td>-0.384358</td>\n",
       "      <td>...</td>\n",
       "      <td>-0.007734</td>\n",
       "      <td>-0.007734</td>\n",
       "      <td>-1.096707</td>\n",
       "      <td>-0.007734</td>\n",
       "      <td>-0.560241</td>\n",
       "      <td>-0.304658</td>\n",
       "      <td>-0.02188</td>\n",
       "      <td>3.113958</td>\n",
       "      <td>-0.825111</td>\n",
       "      <td>-0.463918</td>\n",
       "    </tr>\n",
       "    <tr>\n",
       "      <th>16716</th>\n",
       "      <td>0.141753</td>\n",
       "      <td>-0.249948</td>\n",
       "      <td>-0.288166</td>\n",
       "      <td>-0.251295</td>\n",
       "      <td>-0.876929</td>\n",
       "      <td>-0.089548</td>\n",
       "      <td>-0.013397</td>\n",
       "      <td>-0.179167</td>\n",
       "      <td>-0.055856</td>\n",
       "      <td>-0.384358</td>\n",
       "      <td>...</td>\n",
       "      <td>-0.007734</td>\n",
       "      <td>-0.007734</td>\n",
       "      <td>0.911820</td>\n",
       "      <td>-0.007734</td>\n",
       "      <td>-0.560241</td>\n",
       "      <td>-0.304658</td>\n",
       "      <td>-0.02188</td>\n",
       "      <td>-0.321135</td>\n",
       "      <td>1.211958</td>\n",
       "      <td>-0.463918</td>\n",
       "    </tr>\n",
       "    <tr>\n",
       "      <th>16717</th>\n",
       "      <td>0.157593</td>\n",
       "      <td>-0.323705</td>\n",
       "      <td>-0.188815</td>\n",
       "      <td>-0.251295</td>\n",
       "      <td>1.156395</td>\n",
       "      <td>-0.089548</td>\n",
       "      <td>-0.013397</td>\n",
       "      <td>-0.179167</td>\n",
       "      <td>-0.055856</td>\n",
       "      <td>-0.384358</td>\n",
       "      <td>...</td>\n",
       "      <td>-0.007734</td>\n",
       "      <td>-0.007734</td>\n",
       "      <td>-1.096707</td>\n",
       "      <td>-0.007734</td>\n",
       "      <td>-0.560241</td>\n",
       "      <td>3.282369</td>\n",
       "      <td>-0.02188</td>\n",
       "      <td>-0.321135</td>\n",
       "      <td>-0.825111</td>\n",
       "      <td>-0.463918</td>\n",
       "    </tr>\n",
       "    <tr>\n",
       "      <th>16718</th>\n",
       "      <td>0.121953</td>\n",
       "      <td>-0.262241</td>\n",
       "      <td>-0.288166</td>\n",
       "      <td>-0.251295</td>\n",
       "      <td>1.020840</td>\n",
       "      <td>-0.089548</td>\n",
       "      <td>-0.013397</td>\n",
       "      <td>-0.179167</td>\n",
       "      <td>-0.055856</td>\n",
       "      <td>2.601740</td>\n",
       "      <td>...</td>\n",
       "      <td>-0.007734</td>\n",
       "      <td>-0.007734</td>\n",
       "      <td>-1.096707</td>\n",
       "      <td>-0.007734</td>\n",
       "      <td>1.784945</td>\n",
       "      <td>-0.304658</td>\n",
       "      <td>-0.02188</td>\n",
       "      <td>-0.321135</td>\n",
       "      <td>-0.825111</td>\n",
       "      <td>-0.463918</td>\n",
       "    </tr>\n",
       "  </tbody>\n",
       "</table>\n",
       "<p>16719 rows × 1135 columns</p>\n",
       "</div>"
      ],
      "text/plain": [
       "           0          1          2          3         4         5     \\\n",
       "0      0.125913  50.518992  57.255699  11.956905  1.291949 -0.089548   \n",
       "1      0.042752  35.423530   6.825337  21.801182 -0.876929 -0.089548   \n",
       "2      0.133833  18.951283  25.066106  12.021669  1.373282 -0.089548   \n",
       "3      0.137793  18.865234  21.429874  10.370162  1.291949 -0.089548   \n",
       "4      0.086313  13.530193  17.376370  32.843612 -0.876929 -0.089548   \n",
       "...         ...        ...        ...        ...       ...       ...   \n",
       "16714  0.133833  -0.262241  -0.288166  -0.251295  1.291949 -0.089548   \n",
       "16715  0.133833  -0.323705  -0.188815  -0.251295  0.993729 -0.089548   \n",
       "16716  0.141753  -0.249948  -0.288166  -0.251295 -0.876929 -0.089548   \n",
       "16717  0.157593  -0.323705  -0.188815  -0.251295  1.156395 -0.089548   \n",
       "16718  0.121953  -0.262241  -0.288166  -0.251295  1.020840 -0.089548   \n",
       "\n",
       "           6         7         8         9     ...      1125      1126  \\\n",
       "0     -0.013397 -0.179167 -0.055856 -0.384358  ... -0.007734 -0.007734   \n",
       "1     -0.013397 -0.179167 -0.055856 -0.384358  ... -0.007734 -0.007734   \n",
       "2     -0.013397 -0.179167 -0.055856 -0.384358  ... -0.007734 -0.007734   \n",
       "3     -0.013397 -0.179167 -0.055856 -0.384358  ... -0.007734 -0.007734   \n",
       "4     -0.013397 -0.179167 -0.055856 -0.384358  ... -0.007734 -0.007734   \n",
       "...         ...       ...       ...       ...  ...       ...       ...   \n",
       "16714 -0.013397 -0.179167 -0.055856  2.601740  ... -0.007734 -0.007734   \n",
       "16715 -0.013397 -0.179167 -0.055856 -0.384358  ... -0.007734 -0.007734   \n",
       "16716 -0.013397 -0.179167 -0.055856 -0.384358  ... -0.007734 -0.007734   \n",
       "16717 -0.013397 -0.179167 -0.055856 -0.384358  ... -0.007734 -0.007734   \n",
       "16718 -0.013397 -0.179167 -0.055856  2.601740  ... -0.007734 -0.007734   \n",
       "\n",
       "           1127      1128      1129      1130     1131      1132      1133  \\\n",
       "0     -1.096707 -0.007734  1.784945 -0.304658 -0.02188 -0.321135 -0.825111   \n",
       "1      0.911820 -0.007734 -0.560241 -0.304658 -0.02188 -0.321135  1.211958   \n",
       "2     -1.096707 -0.007734  1.784945 -0.304658 -0.02188 -0.321135 -0.825111   \n",
       "3     -1.096707 -0.007734  1.784945 -0.304658 -0.02188 -0.321135 -0.825111   \n",
       "4      0.911820 -0.007734 -0.560241 -0.304658 -0.02188 -0.321135  1.211958   \n",
       "...         ...       ...       ...       ...      ...       ...       ...   \n",
       "16714 -1.096707 -0.007734 -0.560241 -0.304658 -0.02188  3.113958 -0.825111   \n",
       "16715 -1.096707 -0.007734 -0.560241 -0.304658 -0.02188  3.113958 -0.825111   \n",
       "16716  0.911820 -0.007734 -0.560241 -0.304658 -0.02188 -0.321135  1.211958   \n",
       "16717 -1.096707 -0.007734 -0.560241  3.282369 -0.02188 -0.321135 -0.825111   \n",
       "16718 -1.096707 -0.007734  1.784945 -0.304658 -0.02188 -0.321135 -0.825111   \n",
       "\n",
       "           1134  \n",
       "0     -0.463918  \n",
       "1     -0.463918  \n",
       "2     -0.463918  \n",
       "3     -0.463918  \n",
       "4     -0.463918  \n",
       "...         ...  \n",
       "16714 -0.463918  \n",
       "16715 -0.463918  \n",
       "16716 -0.463918  \n",
       "16717 -0.463918  \n",
       "16718 -0.463918  \n",
       "\n",
       "[16719 rows x 1135 columns]"
      ]
     },
     "execution_count": 165,
     "metadata": {},
     "output_type": "execute_result"
    }
   ],
   "source": [
    "pd.DataFrame(x)"
   ]
  },
  {
   "cell_type": "markdown",
   "id": "ee8c6ff1",
   "metadata": {},
   "source": []
  },
  {
   "cell_type": "code",
   "execution_count": 167,
   "id": "4ba14209",
   "metadata": {},
   "outputs": [
    {
     "data": {
      "text/plain": [
       "(14576, 15)"
      ]
     },
     "execution_count": 167,
     "metadata": {},
     "output_type": "execute_result"
    }
   ],
   "source": [
    "data_train.shape"
   ]
  },
  {
   "cell_type": "code",
   "execution_count": 168,
   "id": "449a575d",
   "metadata": {},
   "outputs": [
    {
     "data": {
      "text/plain": [
       "(0, 15)"
      ]
     },
     "execution_count": 168,
     "metadata": {},
     "output_type": "execute_result"
    }
   ],
   "source": [
    "data_test.shape"
   ]
  },
  {
   "cell_type": "code",
   "execution_count": 169,
   "id": "91a96c50",
   "metadata": {},
   "outputs": [],
   "source": [
    "data_test=dummy[14576:]"
   ]
  },
  {
   "cell_type": "code",
   "execution_count": 170,
   "id": "5c6565ab",
   "metadata": {},
   "outputs": [],
   "source": [
    "data_train=dummy[:14576]"
   ]
  },
  {
   "cell_type": "markdown",
   "id": "e3deace9",
   "metadata": {},
   "source": [
    "<h1> linear regression"
   ]
  },
  {
   "cell_type": "code",
   "execution_count": 171,
   "id": "016ce59d",
   "metadata": {},
   "outputs": [],
   "source": [
    "from sklearn.model_selection import train_test_split\n",
    "train_x,test_x,train_y,test_y = train_test_split(x,y,train_size=0.8,test_size=0.2, random_state=25)\n"
   ]
  },
  {
   "cell_type": "code",
   "execution_count": 172,
   "id": "33e0048d",
   "metadata": {},
   "outputs": [
    {
     "data": {
      "text/plain": [
       "LinearRegression()"
      ]
     },
     "execution_count": 172,
     "metadata": {},
     "output_type": "execute_result"
    }
   ],
   "source": [
    "model=LinearRegression()\n",
    "model.fit(train_x,train_y)"
   ]
  },
  {
   "cell_type": "code",
   "execution_count": 173,
   "id": "438711e1",
   "metadata": {},
   "outputs": [],
   "source": [
    "abc=model.score(test_x,test_y)"
   ]
  },
  {
   "cell_type": "code",
   "execution_count": 174,
   "id": "53792494",
   "metadata": {},
   "outputs": [
    {
     "data": {
      "text/plain": [
       "-4.557570139741565e+25"
      ]
     },
     "execution_count": 174,
     "metadata": {},
     "output_type": "execute_result"
    }
   ],
   "source": [
    "abc"
   ]
  },
  {
   "cell_type": "markdown",
   "id": "1a6f04d3",
   "metadata": {},
   "source": [
    "<h1> RANDOM FOREST REGRESSOR"
   ]
  },
  {
   "cell_type": "code",
   "execution_count": 178,
   "id": "68b12698",
   "metadata": {},
   "outputs": [],
   "source": [
    "from sklearn.model_selection import train_test_split\n",
    "train_x,test_x,train_y,test_y = train_test_split(x,y,train_size=0.8,test_size=0.2, random_state=25)"
   ]
  },
  {
   "cell_type": "code",
   "execution_count": 179,
   "id": "edb35ed0",
   "metadata": {},
   "outputs": [
    {
     "data": {
      "text/plain": [
       "RandomForestRegressor(random_state=0)"
      ]
     },
     "execution_count": 179,
     "metadata": {},
     "output_type": "execute_result"
    }
   ],
   "source": [
    "from sklearn.ensemble import RandomForestRegressor\n",
    "model=RandomForestRegressor(n_estimators = 100, random_state = 0)\n",
    "model.fit(train_x,train_y)"
   ]
  },
  {
   "cell_type": "code",
   "execution_count": 180,
   "id": "77dba776",
   "metadata": {},
   "outputs": [
    {
     "data": {
      "text/plain": [
       "array([0.02  , 0.0209, 0.02  , ..., 1.2048, 0.1974, 0.0711])"
      ]
     },
     "execution_count": 180,
     "metadata": {},
     "output_type": "execute_result"
    }
   ],
   "source": [
    "pred_y=model.predict(test_x)\n",
    "pred_y"
   ]
  },
  {
   "cell_type": "code",
   "execution_count": 206,
   "id": "5dae767e",
   "metadata": {},
   "outputs": [],
   "source": [
    "era=pd.DataFrame(pred_y)"
   ]
  },
  {
   "cell_type": "code",
   "execution_count": 207,
   "id": "f0922148",
   "metadata": {},
   "outputs": [
    {
     "name": "stdout",
     "output_type": "stream",
     "text": [
      "train score= 0.9869315795181117\n"
     ]
    }
   ],
   "source": [
    "print(\"train score=\",model.score(train_x,train_y))"
   ]
  },
  {
   "cell_type": "code",
   "execution_count": 208,
   "id": "b0c257c2",
   "metadata": {},
   "outputs": [
    {
     "name": "stdout",
     "output_type": "stream",
     "text": [
      "test score= 0.960524878785542\n"
     ]
    }
   ],
   "source": [
    "print(\"test score=\",model.score(test_x,test_y))"
   ]
  },
  {
   "cell_type": "code",
   "execution_count": null,
   "id": "826fd125",
   "metadata": {},
   "outputs": [],
   "source": []
  },
  {
   "cell_type": "code",
   "execution_count": 209,
   "id": "19abbd2f",
   "metadata": {},
   "outputs": [
    {
     "data": {
      "text/plain": [
       "0.1298302942194095"
      ]
     },
     "execution_count": 209,
     "metadata": {},
     "output_type": "execute_result"
    }
   ],
   "source": [
    "from sklearn.metrics import mean_squared_error\n",
    "rmse=mean_squared_error(test_y,pred_y)\n",
    "rmse\n"
   ]
  },
  {
   "cell_type": "markdown",
   "id": "787450f0",
   "metadata": {},
   "source": [
    "<h1> DECISION TREE"
   ]
  },
  {
   "cell_type": "code",
   "execution_count": 184,
   "id": "1372ebaa",
   "metadata": {},
   "outputs": [
    {
     "data": {
      "text/plain": [
       "DecisionTreeRegressor(random_state=42)"
      ]
     },
     "execution_count": 184,
     "metadata": {},
     "output_type": "execute_result"
    }
   ],
   "source": [
    "modeldtc = tree.DecisionTreeRegressor(random_state=42)\n",
    "modeldtc.fit(train_x,train_y)"
   ]
  },
  {
   "cell_type": "code",
   "execution_count": 185,
   "id": "0e0d820b",
   "metadata": {},
   "outputs": [],
   "source": [
    "de=modeldtc.score(test_x,test_y)"
   ]
  },
  {
   "cell_type": "code",
   "execution_count": 186,
   "id": "07723fc3",
   "metadata": {},
   "outputs": [
    {
     "data": {
      "text/plain": [
       "0.364870238852919"
      ]
     },
     "execution_count": 186,
     "metadata": {},
     "output_type": "execute_result"
    }
   ],
   "source": [
    "de"
   ]
  },
  {
   "cell_type": "markdown",
   "id": "2e2f2471",
   "metadata": {},
   "source": [
    "<h1>gradient booster"
   ]
  },
  {
   "cell_type": "code",
   "execution_count": 187,
   "id": "42ca2970",
   "metadata": {},
   "outputs": [],
   "source": [
    "model1=GradientBoostingRegressor(random_state=42)"
   ]
  },
  {
   "cell_type": "code",
   "execution_count": 188,
   "id": "7b6b075f",
   "metadata": {},
   "outputs": [
    {
     "data": {
      "text/plain": [
       "GradientBoostingRegressor(random_state=42)"
      ]
     },
     "execution_count": 188,
     "metadata": {},
     "output_type": "execute_result"
    }
   ],
   "source": [
    "model1.fit(train_x,train_y)"
   ]
  },
  {
   "cell_type": "code",
   "execution_count": 189,
   "id": "8e31e3e5",
   "metadata": {},
   "outputs": [],
   "source": [
    "ijk=model1.score(test_x,test_y)"
   ]
  },
  {
   "cell_type": "code",
   "execution_count": 190,
   "id": "299945a4",
   "metadata": {},
   "outputs": [
    {
     "data": {
      "text/plain": [
       "0.9793900566853208"
      ]
     },
     "execution_count": 190,
     "metadata": {},
     "output_type": "execute_result"
    }
   ],
   "source": [
    "ijk"
   ]
  },
  {
   "cell_type": "markdown",
   "id": "3d9d9a97",
   "metadata": {},
   "source": [
    "<h1>AdaBoostRegressor"
   ]
  },
  {
   "cell_type": "code",
   "execution_count": 199,
   "id": "6f87a768",
   "metadata": {},
   "outputs": [
    {
     "name": "stderr",
     "output_type": "stream",
     "text": [
      "C:\\Users\\Dell\\anaconda3\\lib\\site-packages\\sklearn\\utils\\validation.py:63: DataConversionWarning: A column-vector y was passed when a 1d array was expected. Please change the shape of y to (n_samples, ), for example using ravel().\n",
      "  return f(*args, **kwargs)\n"
     ]
    },
    {
     "data": {
      "text/plain": [
       "AdaBoostRegressor(n_estimators=100, random_state=42)"
      ]
     },
     "execution_count": 199,
     "metadata": {},
     "output_type": "execute_result"
    }
   ],
   "source": [
    "reg = AdaBoostRegressor(n_estimators=100, random_state=42)\n",
    "reg.fit(train_x,train_y)"
   ]
  },
  {
   "cell_type": "code",
   "execution_count": 200,
   "id": "5d9d5550",
   "metadata": {},
   "outputs": [],
   "source": [
    "lmn=reg.score(test_x,test_y)"
   ]
  },
  {
   "cell_type": "code",
   "execution_count": 201,
   "id": "bdd2ba3d",
   "metadata": {},
   "outputs": [
    {
     "data": {
      "text/plain": [
       "0.11402592710959758"
      ]
     },
     "execution_count": 201,
     "metadata": {},
     "output_type": "execute_result"
    }
   ],
   "source": [
    "lmn"
   ]
  },
  {
   "cell_type": "markdown",
   "id": "5282d7c8",
   "metadata": {},
   "source": [
    "<h1> CONCLUSION\n",
    "    <h2>  Random forest regressor is the best model"
   ]
  },
  {
   "cell_type": "code",
   "execution_count": 212,
   "id": "89085d86",
   "metadata": {},
   "outputs": [],
   "source": [
    "era.to_csv(\"kirkev.csv\")"
   ]
  }
 ],
 "metadata": {
  "kernelspec": {
   "display_name": "Python 3 (ipykernel)",
   "language": "python",
   "name": "python3"
  },
  "language_info": {
   "codemirror_mode": {
    "name": "ipython",
    "version": 3
   },
   "file_extension": ".py",
   "mimetype": "text/x-python",
   "name": "python",
   "nbconvert_exporter": "python",
   "pygments_lexer": "ipython3",
   "version": "3.9.7"
  }
 },
 "nbformat": 4,
 "nbformat_minor": 5
}
